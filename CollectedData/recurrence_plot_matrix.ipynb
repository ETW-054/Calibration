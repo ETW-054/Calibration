{
 "cells": [
  {
   "cell_type": "markdown",
   "id": "1021aa84-1fd4-441f-980f-3dc168842784",
   "metadata": {},
   "source": [
    "```python\n",
    "file1 \\_ |-----------------------------------|   -+-\n",
    "file2 \\_ |-----------------------------------|    |   training data\n",
    "file3 \\_ |-----------------------------------|    |        80%\n",
    "file4 \\_ |-----------------------------------|    |\n",
    "                                                 -+-\n",
    "file5 \\_ |-----------------------------------|    |  validation data\n",
    "file6 \\_ |-----------------------------------|    |        20%\n",
    "         |-----------------------------------|   -+-\n",
    "```"
   ]
  },
  {
   "cell_type": "code",
   "execution_count": 1,
   "id": "10a92978-52d9-4cc8-b309-2a8874549ac7",
   "metadata": {},
   "outputs": [],
   "source": [
    "import os\n",
    "\n",
    "import numpy as np\n",
    "import pandas as pd\n",
    "import zipfile\n",
    "import matplotlib.pyplot as plt\n",
    "from tqdm import tqdm\n",
    "import math"
   ]
  },
  {
   "cell_type": "code",
   "execution_count": 2,
   "id": "e423a4bb-b4d7-4fdd-b4a2-6d49a4fe7a33",
   "metadata": {},
   "outputs": [],
   "source": [
    "# pd.set_option('display.float_format', lambda x: '%.3f' % x)"
   ]
  },
  {
   "cell_type": "markdown",
   "id": "a74d0f88-db27-4381-bfa6-8a7f86930454",
   "metadata": {},
   "source": [
    "# 讀檔"
   ]
  },
  {
   "cell_type": "code",
   "execution_count": 3,
   "id": "7b5f5c14-bd7c-4fb4-99c0-0a0cb769baea",
   "metadata": {},
   "outputs": [],
   "source": [
    "def rename_data(df):\n",
    "    new_names = ['system_time', 'acc_times', 'acc_x', 'acc_y', 'acc_z', 'gyo_times', 'gyo_x', 'gyo_y', 'gyo_z', 'lin_acc_times', 'lin_acc_x', 'lin_acc_y', 'lin_acc_z', 'mag_times', 'mag_x', 'mag_y', 'mag_z']\n",
    "    df.columns = new_names\n",
    "    \n",
    "    return df\n",
    "\n",
    "\n",
    "def device_start_system_time(path):\n",
    "    time_df = pd.read_csv(path, delimiter=';', index_col=0)\n",
    "    time = time_df.T.loc['system time', 'START']\n",
    "    \n",
    "    return time\n",
    "\n",
    "\n",
    "def load_original_data(path):\n",
    "    acc_df = pd.read_csv(os.path.join(path, 'Accelerometer.csv'), delimiter=';')\n",
    "    gyo_df = pd.read_csv(os.path.join(path, 'Gyroscope.csv'), delimiter=';')\n",
    "    linacc_df = pd.read_csv(os.path.join(path, 'Linear Accelerometer.csv'), delimiter=';')\n",
    "    mag_df = pd.read_csv(os.path.join(path, 'Magnetometer.csv'), delimiter=';')\n",
    "    start_time = device_start_system_time(os.path.join(path, 'meta/time.csv'))\n",
    "    time_df = acc_df.iloc[:, 0] + start_time\n",
    "    \n",
    "    total_df = pd.concat([time_df, acc_df, gyo_df, linacc_df, mag_df], axis=1)\n",
    "    total_df = rename_data(total_df)\n",
    "    \n",
    "    return total_df"
   ]
  },
  {
   "cell_type": "code",
   "execution_count": 4,
   "id": "50962f15-f38a-429a-b00a-2adf9a6eb064",
   "metadata": {},
   "outputs": [],
   "source": [
    "def align_data(source_df, target_df):\n",
    "    source_start_time = source_df.loc[0, 'system_time']\n",
    "    target_start_time = target_df.loc[0, 'system_time']\n",
    "    \n",
    "    # align start time\n",
    "    if source_start_time > target_start_time:  # source start time > target start time\n",
    "        target_start_idx = np.argmin(np.abs(target_df.system_time - source_start_time))\n",
    "        target_df = target_df.iloc[target_start_idx:].reset_index(drop=True)\n",
    "    else:  # source start time < target start time\n",
    "        source_start_idx = np.argmin(np.abs(source_df.system_time - target_start_time))\n",
    "        source_df = source_df.iloc[source_start_idx:].reset_index(drop=True)\n",
    "        \n",
    "    # align end idx\n",
    "    end_idx = min(len(source_df), len(target_df))\n",
    "    source_df = source_df.iloc[:end_idx]\n",
    "    target_df = target_df.iloc[:end_idx]\n",
    "    \n",
    "    return source_df, target_df\n",
    "\n",
    "\n",
    "def bound_range(df):\n",
    "    start = datapoint_per_second * 35\n",
    "    end = len(df) - datapoint_per_second * 20\n",
    "    \n",
    "    return df.iloc[start:end].reset_index(drop=True)\n",
    "\n",
    "\n",
    "def split_segments(df, seq_len=25):\n",
    "    num_of_segs = int(np.floor(len(df) / seq_len))\n",
    "    \n",
    "    segments = []\n",
    "    for i in range(num_of_segs):\n",
    "        seg = df.iloc[int(i * seq_len):int((i + 1) * seq_len)].to_numpy()\n",
    "        segments.append(seg)\n",
    "        \n",
    "    return segments\n",
    "\n",
    "\n",
    "def split_segments_overlap(df, seq_len=25, shift=15):\n",
    "    \n",
    "    segments = []\n",
    "    for i in range(0, len(df) - seq_len, shift):\n",
    "        seg = df.iloc[i:i + seq_len].to_numpy()\n",
    "        segments.append(seg)\n",
    "        \n",
    "    return segments\n",
    "\n",
    "\n",
    "def select_data(df):\n",
    "    return df[['lin_acc_x', 'lin_acc_y', 'lin_acc_z', 'gyo_x', 'gyo_y', 'gyo_z', 'mag_x', 'mag_y', 'mag_z', 'system_time']]\n",
    "\n",
    "\n",
    "def preprocess_data(df, seq_len=25, shift=15, is_train_data=False):\n",
    "    pre_df = select_data(df)\n",
    "    \n",
    "    if is_train_data:\n",
    "        segs = split_segments_overlap(pre_df, seq_len, shift)\n",
    "    else:\n",
    "        segs = split_segments(pre_df, seq_len)\n",
    "    \n",
    "    return segs"
   ]
  },
  {
   "cell_type": "code",
   "execution_count": 5,
   "id": "c57b7b75-a898-49d3-8b69-a7ac8fe74114",
   "metadata": {},
   "outputs": [],
   "source": [
    "def device_version(path):\n",
    "    device_df = pd.read_csv(path, delimiter=';', index_col=0)\n",
    "    version = device_df.loc['deviceRelease'].value\n",
    "    \n",
    "    return version\n",
    "\n",
    "\n",
    "def check_data_device(source_path, target_path):\n",
    "    while True:\n",
    "        source_version = device_version(os.path.join(source_path, 'meta/device.csv'))\n",
    "        target_version = device_version(os.path.join(target_path, 'meta/device.csv'))\n",
    "\n",
    "        print(source_path, target_path)\n",
    "\n",
    "        if source_version[:2] == '15' and target_version[:2] == '16':\n",
    "            return source_path, target_path\n",
    "        elif source_version[:2] == '16' and target_version[:2] == '15':\n",
    "            source_path = os.path.join(folder_path, 'target')\n",
    "            target_path = os.path.join(folder_path, 'source')\n",
    "            print('--- GG ---')\n",
    "            continue\n",
    "        else:\n",
    "            raise\n",
    "\n",
    "\n",
    "def load_pair_data(root_folder, class_num, file_index=None, is_train_data=False):\n",
    "    pair_data = []\n",
    "    files = os.listdir(root_folder)\n",
    "    if file_index is not None:\n",
    "        files = files[file_index[0]:file_index[1]]\n",
    "\n",
    "    for folder in files:\n",
    "        if folder.startswith('.'):\n",
    "            continue\n",
    "\n",
    "        folder_path = os.path.join(root_folder, folder)\n",
    "        source_path = os.path.join(folder_path, 'source')\n",
    "        target_path = os.path.join(folder_path, 'target')\n",
    "        \n",
    "        print(folder_path)\n",
    "        \n",
    "        #########################\n",
    "        ##### check devices #####\n",
    "        #########################\n",
    "        source_path, target_path = check_data_device(source_path, target_path)\n",
    "        \n",
    "        ####################################\n",
    "        ##### load and preprocess data #####\n",
    "        ####################################\n",
    "        source_df = load_original_data(source_path)\n",
    "        target_df = load_original_data(target_path)\n",
    "        \n",
    "#         print(source_df.system_time[0], target_df.system_time[0])\n",
    "        \n",
    "        source_df, target_df = bound_range(source_df), bound_range(target_df)\n",
    "        source_df, target_df = align_data(source_df, target_df)\n",
    "        \n",
    "#         print(source_df.system_time[0], target_df.system_time[0])\n",
    "#         print(source_df.system_time[len(source_df) - 1], target_df.system_time[len(target_df) - 1])\n",
    "#         print(len(source_df), len(target_df))\n",
    "        \n",
    "#         plt.figure(figsize=(30, 5))\n",
    "#         plt.plot(np.arange(len(source_df)), source_df.acc_x)\n",
    "#         plt.plot(np.arange(len(target_df)), target_df.acc_y)\n",
    "#         plt.show()\n",
    "        \n",
    "        source_segs = preprocess_data(source_df, seq_len, shift, is_train_data)\n",
    "        target_segs = preprocess_data(target_df, seq_len, shift, is_train_data)\n",
    "        \n",
    "        idx = min(len(source_segs), len(target_segs))\n",
    "        source_tags = [class_num] * idx\n",
    "        target_tags = [0] * idx\n",
    "        \n",
    "        pair_data.extend(zip(source_segs[:idx], source_tags, target_segs[:idx], target_tags))\n",
    "        \n",
    "    return pair_data"
   ]
  },
  {
   "cell_type": "code",
   "execution_count": 6,
   "id": "4d299628-a975-4dc5-ba26-5ae000e5995d",
   "metadata": {},
   "outputs": [],
   "source": [
    "datapoint_per_second = 20\n",
    "duration = 2\n",
    "seq_len = 25\n",
    "shift = 15  # the shfit of the data\n",
    "classes = {0: 'target', 1: 'front_pocket', 2: 'pocket', 3: 'swing'}"
   ]
  },
  {
   "cell_type": "code",
   "execution_count": 7,
   "id": "34aa6ce4-9bb1-428a-b421-0d086fc4cba0",
   "metadata": {},
   "outputs": [
    {
     "name": "stdout",
     "output_type": "stream",
     "text": [
      "source device version: 15.4\n",
      "target device version: 16.3\n"
     ]
    }
   ],
   "source": [
    "source_device_version = device_version('./front_pocket/202302071523/source/meta/device.csv')\n",
    "target_device_version = device_version('./front_pocket/202302071523/target/meta/device.csv')\n",
    "print(f\"source device version: {source_device_version}\")  # source version: 15.4\n",
    "print(f\"target device version: {target_device_version}\")  # target version: 16.3"
   ]
  },
  {
   "cell_type": "code",
   "execution_count": 8,
   "id": "a7e45351-7142-4102-8c44-fa7e75e80bfa",
   "metadata": {},
   "outputs": [
    {
     "name": "stdout",
     "output_type": "stream",
     "text": [
      "./front_pocket/202302071628\n",
      "./front_pocket/202302071628/source ./front_pocket/202302071628/target\n",
      "./front_pocket/202302071652\n",
      "./front_pocket/202302071652/source ./front_pocket/202302071652/target\n",
      "./front_pocket/202302071523\n",
      "./front_pocket/202302071523/source ./front_pocket/202302071523/target\n",
      "./front_pocket/202302071531\n",
      "./front_pocket/202302071531/source ./front_pocket/202302071531/target\n",
      "./front_pocket/202302071715\n",
      "./front_pocket/202302071715/source ./front_pocket/202302071715/target\n",
      "./front_pocket/202302071641\n",
      "./front_pocket/202302071641/source ./front_pocket/202302071641/target\n",
      "./front_pocket/202302071541\n",
      "./front_pocket/202302071541/source ./front_pocket/202302071541/target\n",
      "./front_pocket/202302071619\n",
      "./front_pocket/202302071619/source ./front_pocket/202302071619/target\n",
      "./front_pocket/202302071704\n",
      "./front_pocket/202302071704/source ./front_pocket/202302071704/target\n",
      "./pocket/202302132108\n",
      "./pocket/202302132108/source ./pocket/202302132108/target\n",
      "./pocket/202302131750\n",
      "./pocket/202302131750/source ./pocket/202302131750/target\n",
      "./pocket/202302131601\n",
      "./pocket/202302131601/source ./pocket/202302131601/target\n",
      "./pocket/202302071606\n",
      "./pocket/202302071606/source ./pocket/202302071606/target\n",
      "./pocket/202302132053\n",
      "./pocket/202302132053/source ./pocket/202302132053/target\n",
      "./pocket/202302122132\n",
      "./pocket/202302122132/source ./pocket/202302122132/target\n",
      "./pocket/202302132116\n",
      "./pocket/202302132116/source ./pocket/202302132116/target\n",
      "./pocket/202302131643\n",
      "./pocket/202302131643/source ./pocket/202302131643/target\n",
      "./pocket/202301101952\n",
      "./pocket/202301101952/source ./pocket/202301101952/target\n",
      "./swing/202302142339\n",
      "./swing/202302142339/source ./swing/202302142339/target\n",
      "./swing/202302132131\n",
      "./swing/202302132131/source ./swing/202302132131/target\n",
      "./swing/202302142117\n",
      "./swing/202302142117/source ./swing/202302142117/target\n",
      "./swing/202302132124\n",
      "./swing/202302132124/source ./swing/202302132124/target\n",
      "./swing/202302121947\n",
      "./swing/202302121947/source ./swing/202302121947/target\n",
      "./swing/202302121857\n",
      "./swing/202302121857/source ./swing/202302121857/target\n",
      "./swing/202302142128\n",
      "./swing/202302142128/source ./swing/202302142128/target\n",
      "./swing/202302121920\n",
      "./swing/202302121920/source ./swing/202302121920/target\n",
      "./swing/202302121909\n",
      "./swing/202302121909/source ./swing/202302121909/target\n"
     ]
    }
   ],
   "source": [
    "train_front_pocket_pair_data = load_pair_data('./front_pocket', class_num=1, file_index=[0, 8], is_train_data=True)\n",
    "valid_front_pocket_pair_data = load_pair_data('./front_pocket', class_num=1, file_index=[8, 10], is_train_data=False)\n",
    "\n",
    "train_pocket_pair_data = load_pair_data('./pocket', class_num=2, file_index=[0, 8], is_train_data=True)\n",
    "valid_pocket_pair_data = load_pair_data('./pocket', class_num=2, file_index=[8, 10], is_train_data=False)\n",
    "\n",
    "train_swing_pair_data = load_pair_data('./swing', class_num=3, file_index=[0, 8], is_train_data=True)\n",
    "valid_swing_pair_data = load_pair_data('./swing', class_num=3, file_index=[8, 10], is_train_data=False)"
   ]
  },
  {
   "cell_type": "code",
   "execution_count": 9,
   "id": "73a5c707-8a25-4a06-874d-df286b5599c3",
   "metadata": {},
   "outputs": [
    {
     "name": "stdout",
     "output_type": "stream",
     "text": [
      "2697 2640 2559\n"
     ]
    }
   ],
   "source": [
    "print(len(train_front_pocket_pair_data), len(train_pocket_pair_data), len(train_swing_pair_data))"
   ]
  },
  {
   "cell_type": "code",
   "execution_count": 10,
   "id": "4d2f40e0-0448-490c-9449-232c6a55bd52",
   "metadata": {},
   "outputs": [
    {
     "data": {
      "text/plain": [
       "(array([-1.14233120e+00, -1.94808760e-01,  1.75476462e+00, -2.18800381e-01,\n",
       "        -2.56263137e-01, -2.19771296e-01,  1.68020420e+01, -1.84701080e+01,\n",
       "         3.61005859e+01,  1.67575811e+09]),\n",
       " array([-4.94412891e-01,  3.02118031e-01, -7.15015656e-01, -5.08982837e-02,\n",
       "        -8.86559859e-02,  1.07779831e-01, -3.95247726e+01, -8.10098648e+00,\n",
       "        -1.99851685e+01,  1.67575811e+09]))"
      ]
     },
     "execution_count": 10,
     "metadata": {},
     "output_type": "execute_result"
    }
   ],
   "source": [
    "train_front_pocket_pair_data[0][0][0], train_front_pocket_pair_data[0][2][0]"
   ]
  },
  {
   "cell_type": "markdown",
   "id": "01660c15-0597-4c88-ad28-cc76c6d98e93",
   "metadata": {},
   "source": [
    "#### Check for time alignment"
   ]
  },
  {
   "cell_type": "code",
   "execution_count": 11,
   "id": "55f48207-c74b-4836-a77b-278409f659ac",
   "metadata": {},
   "outputs": [
    {
     "data": {
      "image/png": "[encoded data removed]",
      "text/plain": [
       "<Figure size 640x480 with 1 Axes>"
      ]
     },
     "metadata": {},
     "output_type": "display_data"
    }
   ],
   "source": [
    "plt.figure()\n",
    "\n",
    "plt.plot(train_front_pocket_pair_data[0][0][:, -1], train_front_pocket_pair_data[0][0][:, 1])\n",
    "plt.plot(train_front_pocket_pair_data[1][0][:, -1], train_front_pocket_pair_data[1][0][:, 1] + 1)\n",
    "\n",
    "plt.show()"
   ]
  },
  {
   "cell_type": "markdown",
   "id": "c08375b6-a7dc-4268-bd91-3befcea8a141",
   "metadata": {},
   "source": [
    "### recurrence plot function"
   ]
  },
  {
   "cell_type": "code",
   "execution_count": 12,
   "id": "6e6215b6-2196-4bba-8f41-80b35305cf01",
   "metadata": {},
   "outputs": [],
   "source": [
    "def generate_recurrence_plot(data):\n",
    "#     if data.shape[1] == 1:\n",
    "#         error = data.T - data\n",
    "#         max_error = np.max(np.abs(error))\n",
    "#     else:\n",
    "    error = data.T[:, None, :] - data.T[:, :, None]\n",
    "    max_error = np.abs(error).max(axis=-1).max(axis=-1)\n",
    "    max_error = max_error[:, None, None]\n",
    "    \n",
    "    return 0.5 * (1 - error / max_error)"
   ]
  },
  {
   "cell_type": "markdown",
   "id": "646f013f-2cae-4228-ae32-a80d9ced8b66",
   "metadata": {},
   "source": [
    "#### check 1 channel data"
   ]
  },
  {
   "cell_type": "code",
   "execution_count": 13,
   "id": "c3b426f6-3433-4593-84da-a0b3cf186b39",
   "metadata": {},
   "outputs": [
    {
     "data": {
      "image/png": "[encoded data removed]",
      "text/plain": [
       "<Figure size 640x480 with 2 Axes>"
      ]
     },
     "metadata": {},
     "output_type": "display_data"
    }
   ],
   "source": [
    "td = valid_front_pocket_pair_data[0][0][:, 0:1]\n",
    "rp = generate_recurrence_plot(td)\n",
    "\n",
    "plt.figure()\n",
    "plt.imshow(rp[0])\n",
    "plt.colorbar()\n",
    "plt.show()\n",
    "\n",
    "del td, rp"
   ]
  },
  {
   "cell_type": "markdown",
   "id": "96e5b54c-c7e1-42e6-a478-d7ac25d158b5",
   "metadata": {},
   "source": [
    "### check multi channels data"
   ]
  },
  {
   "cell_type": "code",
   "execution_count": 14,
   "id": "22dbdc65-fb33-479a-be3a-59bd78dea628",
   "metadata": {},
   "outputs": [
    {
     "data": {
      "image/png": "[encoded data removed]",
      "text/plain": [
       "<Figure size 640x480 with 2 Axes>"
      ]
     },
     "metadata": {},
     "output_type": "display_data"
    },
    {
     "data": {
      "image/png": "[encoded data removed]",
      "text/plain": [
       "<Figure size 640x480 with 2 Axes>"
      ]
     },
     "metadata": {},
     "output_type": "display_data"
    }
   ],
   "source": [
    "td = valid_front_pocket_pair_data[0][0][:, 0:2]\n",
    "rp = generate_recurrence_plot(td)\n",
    "\n",
    "plt.figure()\n",
    "plt.imshow(rp[0])\n",
    "plt.colorbar()\n",
    "plt.show()\n",
    "\n",
    "plt.figure()\n",
    "plt.imshow(rp[1])\n",
    "plt.colorbar()\n",
    "plt.show()\n",
    "\n",
    "del td, rp"
   ]
  },
  {
   "cell_type": "markdown",
   "id": "c46515db-8a56-47e9-8bbe-8283de894d0c",
   "metadata": {},
   "source": [
    "# 建立dataloader"
   ]
  },
  {
   "cell_type": "code",
   "execution_count": 15,
   "id": "8e7b775c-dd4e-433b-9ee0-7716f9ba0124",
   "metadata": {},
   "outputs": [],
   "source": [
    "def generate_recurrence_plot_tensor(data):\n",
    "    data = data.permute(0, 2, 1)  # (bs, seq_len, channel) -> (bs, channel, seq_len)\n",
    "    error = data[:, :, None, :] - data[:, :, :, None]  # (bs, channel, 1, seq_len) - (bs, channel, seq_len, 1) = (bs, channel, seq_len, seq_len)\n",
    "    max_error = error.abs().max(dim=3).values.max(dim=2).values  # find max values for each batch and channel\n",
    "    max_error = max_error[:, :, None, None]  # (bs, channel) -> (bs, channel, 1, 1)\n",
    "    \n",
    "    return 0.5 * (1 - error / max_error)"
   ]
  },
  {
   "cell_type": "code",
   "execution_count": 16,
   "id": "073af591-76e1-47ec-a306-252417490eaf",
   "metadata": {},
   "outputs": [],
   "source": [
    "import torch\n",
    "import torch.nn as nn\n",
    "import torch.nn.functional as F\n",
    "from torch.utils.data import DataLoader, Dataset\n",
    "from sklearn.metrics import accuracy_score"
   ]
  },
  {
   "cell_type": "code",
   "execution_count": 17,
   "id": "c6048176-d0ec-4f39-aa20-afd7b53758da",
   "metadata": {},
   "outputs": [],
   "source": [
    "class PairDataset(Dataset):\n",
    "    def __init__(self, source_data, source_label, target_data, target_label):\n",
    "        self.source_data = source_data\n",
    "        self.source_label = source_label\n",
    "        self.target_data = target_data\n",
    "        self.target_label = target_label\n",
    "\n",
    "    def __len__(self):\n",
    "        return len(self.source_data)\n",
    "\n",
    "    def __getitem__(self, idx):\n",
    "        return self.source_data[idx], self.source_label[idx], self.target_data[idx], self.target_label[idx]"
   ]
  },
  {
   "cell_type": "code",
   "execution_count": 18,
   "id": "d9f8d6ad-89c6-40f3-b9d5-e7357b0d8781",
   "metadata": {},
   "outputs": [],
   "source": [
    "class FirstDerivativeLoss(nn.Module):\n",
    "    def __init__(self, weight=None, size_average=None, reduce=None, reduction='mean', chunk_size=5):\n",
    "        super(FirstDerivativeLoss, self).__init__()\n",
    "        self.chunk_size = chunk_size\n",
    "\n",
    "    def forward(self, source, target):\n",
    "        # calculate the first derivative\n",
    "        source_o = torch.reshape(source, (len(source), self.chunk_size, -1))\n",
    "        target_o = torch.reshape(target, (len(target), self.chunk_size, -1))\n",
    "        d_source = source_o[1:] - source_o[:-1]\n",
    "        d_target = target_o[1:] - target_o[:-1]\n",
    "        deriv = d_source - d_target\n",
    "\n",
    "        # calculate the loss as the mean squared error of the derivative\n",
    "        loss = torch.mean(torch.pow(deriv, 2))\n",
    "\n",
    "        return loss"
   ]
  },
  {
   "cell_type": "code",
   "execution_count": 19,
   "id": "30960412-1af6-47ed-90d8-0c8a7dc4a30a",
   "metadata": {},
   "outputs": [],
   "source": [
    "def generator_loss(z_imu, target_imu, predict_mag, target_mag):\n",
    "    imu_loss = mse_loss(z_imu, target_imu)\n",
    "    mag_loss = mse_loss(predict_mag, target_mag)\n",
    "    d1_loss = div_loss(predict_mag, target_mag)\n",
    "\n",
    "    total_loss = imu_loss + mag_loss #+ d1_loss\n",
    "    return total_loss, imu_loss, mag_loss, d1_loss\n",
    "\n",
    "# def discriminator_loss(d_real, d_fake):\n",
    "#     real_loss = bce_loss(d_real, torch.ones_like(d_real))\n",
    "#     fake_loss = bce_loss(d_fake, torch.zeros_like(d_fake))\n",
    "\n",
    "#     return real_loss + fake_loss"
   ]
  },
  {
   "cell_type": "code",
   "execution_count": 20,
   "id": "9366367b-10db-4dd5-972b-eb89ad061ff5",
   "metadata": {},
   "outputs": [],
   "source": [
    "train_data = train_front_pocket_pair_data + train_pocket_pair_data + train_swing_pair_data\n",
    "valid_data = valid_front_pocket_pair_data + valid_pocket_pair_data + valid_swing_pair_data\n",
    "\n",
    "# train\n",
    "train_source_data = np.array([d[0] for d in train_data])\n",
    "train_source_label = np.array([d[1] for d in train_data])\n",
    "train_target_data = np.array([d[2] for d in train_data])\n",
    "train_target_label = np.array([d[3] for d in train_data])\n",
    "train_dataset = PairDataset(\n",
    "                    source_data = torch.tensor(train_source_data, dtype=torch.float),\n",
    "                    source_label = train_source_label,\n",
    "                    target_data = torch.tensor(train_target_data, dtype=torch.float),\n",
    "                    target_label = train_target_label,\n",
    "                )\n",
    "train_loader = DataLoader(train_dataset, batch_size=512, shuffle=False)\n",
    "\n",
    "# valid\n",
    "valid_source_data = np.array([d[0] for d in valid_data])\n",
    "valid_source_label = np.array([d[1] for d in valid_data])\n",
    "valid_target_data = np.array([d[2] for d in valid_data])\n",
    "valid_target_label = np.array([d[3] for d in valid_data])\n",
    "valid_dataset = PairDataset(\n",
    "                    source_data = torch.tensor(valid_source_data, dtype=torch.float),\n",
    "                    source_label = valid_source_label,\n",
    "                    target_data = torch.tensor(valid_target_data, dtype=torch.float),\n",
    "                    target_label = valid_target_label,\n",
    "                )\n",
    "valid_loader = DataLoader(valid_dataset, batch_size=512)"
   ]
  },
  {
   "cell_type": "code",
   "execution_count": 21,
   "id": "b88b083b-cc71-47d3-8491-780712b263eb",
   "metadata": {},
   "outputs": [],
   "source": [
    "batch = next(iter(valid_loader))"
   ]
  },
  {
   "cell_type": "code",
   "execution_count": 22,
   "id": "1a82e6c4-bf6f-41b6-930e-e0259e5a14a7",
   "metadata": {},
   "outputs": [
    {
     "data": {
      "image/png": "[encoded data removed]",
      "text/plain": [
       "<Figure size 640x480 with 2 Axes>"
      ]
     },
     "metadata": {},
     "output_type": "display_data"
    },
    {
     "data": {
      "image/png": "[encoded data removed]",
      "text/plain": [
       "<Figure size 640x480 with 2 Axes>"
      ]
     },
     "metadata": {},
     "output_type": "display_data"
    }
   ],
   "source": [
    "sd, _, _, _ = batch\n",
    "rp = generate_recurrence_plot_tensor(sd)\n",
    "\n",
    "plt.figure()\n",
    "plt.imshow(rp[0, 0])\n",
    "plt.colorbar()\n",
    "plt.show()\n",
    "\n",
    "plt.figure()\n",
    "plt.imshow(rp[0, 1])\n",
    "plt.colorbar()\n",
    "plt.show()\n",
    "\n",
    "del sd, rp"
   ]
  },
  {
   "cell_type": "code",
   "execution_count": 23,
   "id": "b4733b36-7de2-49e6-ac7f-a58f9e9917ae",
   "metadata": {},
   "outputs": [],
   "source": [
    "def get_tgt_mask(size) -> torch.tensor:\n",
    "    # Generates a squeare matrix where the each row allows one word more to be seen\n",
    "    mask = torch.tril(torch.ones(size, size) == 1) # Lower triangular matrix\n",
    "    mask = mask.float()\n",
    "    mask = mask.masked_fill(mask == 0, float('-inf')) # Convert zeros to -inf\n",
    "    mask = mask.masked_fill(mask == 1, float(0.0)) # Convert ones to 0\n",
    "\n",
    "    # EX for size=5:\n",
    "    # [[0., -inf, -inf, -inf, -inf],\n",
    "    #  [0.,   0., -inf, -inf, -inf],\n",
    "    #  [0.,   0.,   0., -inf, -inf],\n",
    "    #  [0.,   0.,   0.,   0., -inf],\n",
    "    #  [0.,   0.,   0.,   0.,   0.]]\n",
    "\n",
    "    return mask"
   ]
  },
  {
   "cell_type": "code",
   "execution_count": 24,
   "id": "ada036cd-d67b-4d25-b935-0cdcde61f750",
   "metadata": {
    "tags": []
   },
   "outputs": [],
   "source": [
    "class CNNBlock(nn.Module):\n",
    "    def __init__(self, in_channel, out_channel):\n",
    "        super().__init__()\n",
    "        \n",
    "        self.nn = nn.Sequential(\n",
    "            nn.Conv2d(in_channel, out_channel, (3, 3)),\n",
    "            nn.SELU(),\n",
    "            nn.MaxPool2d((2, 2)),\n",
    "            nn.Dropout2d(),\n",
    "        )\n",
    "        \n",
    "    def forward(self, x):\n",
    "        return self.nn(x)\n",
    "\n",
    "\n",
    "class Classifier(nn.Module):\n",
    "    def __init__(self, seq_len=21, num_of_classes=2):\n",
    "        super(Classifier, self).__init__()\n",
    "        \n",
    "        self.seq_len = seq_len\n",
    "        self.num_of_classes = num_of_classes\n",
    "        \n",
    "        self.cnn = nn.Sequential(\n",
    "            CNNBlock(6, 32),\n",
    "            CNNBlock(32, 64),\n",
    "            CNNBlock(64, 128),\n",
    "        )\n",
    "        \n",
    "        self.last = nn.Sequential(\n",
    "            nn.Linear(128, 128),\n",
    "            nn.LeakyReLU(),\n",
    "            nn.Linear(128, 96),\n",
    "            nn.LeakyReLU(),\n",
    "            nn.Linear(96, 64),\n",
    "            nn.LeakyReLU(),\n",
    "            nn.Linear(64, 32),\n",
    "            nn.LeakyReLU(),\n",
    "            \n",
    "            nn.Linear(32, 16),\n",
    "            nn.Tanh(),\n",
    "            nn.Linear(16, num_of_classes),\n",
    "            nn.Softmax(dim=1),\n",
    "        )\n",
    "        \n",
    "    def forward(self, x):  # input: (bs, chunk_size, seq_len, 9)\n",
    "        h = self.cnn(x)\n",
    "\n",
    "        h = h.reshape(len(x), -1)\n",
    "        \n",
    "        out = self.last(h)\n",
    "        \n",
    "        return out\n",
    "    \n",
    "    def predict_label(self, x):\n",
    "        predict_probability = self(x)\n",
    "        predict_probability = predict_probability.reshape((-1, self.num_of_classes))\n",
    "        _, predict_classes = torch.max(predict_probability, 1)\n",
    "        one_hot = F.one_hot(predict_classes, num_classes=self.num_of_classes).to(device).float()\n",
    "        \n",
    "        return predict_probability, one_hot, predict_classes\n"
   ]
  },
  {
   "cell_type": "code",
   "execution_count": 25,
   "id": "1674672d-763d-47dc-a44c-7e7820893068",
   "metadata": {},
   "outputs": [],
   "source": [
    "EPOCH = 2000\n",
    "num_of_classes = 4\n",
    "device = torch.device(\"cuda\" if (torch.cuda.is_available()) else \"cpu\")\n",
    "ce_loss = torch.nn.CrossEntropyLoss()\n",
    "mse_loss = torch.nn.MSELoss()\n",
    "bce_loss = torch.nn.BCELoss()\n",
    "# div_loss = FirstDerivativeLoss(chunk_size=chunk_size)"
   ]
  },
  {
   "cell_type": "markdown",
   "id": "68ecf49e-94c2-400e-9820-fa7650d12576",
   "metadata": {},
   "source": [
    "# Train classifier"
   ]
  },
  {
   "cell_type": "code",
   "execution_count": 26,
   "id": "31e23ee4-8da1-4fc7-bbd9-0b2397de5e9e",
   "metadata": {},
   "outputs": [],
   "source": [
    "classifier = Classifier(seq_len=seq_len, num_of_classes=num_of_classes).to(device)\n",
    "optimizer_C = torch.optim.Adam(classifier.parameters(), lr=0.001)\n",
    "lr_scheduler = torch.optim.lr_scheduler.CosineAnnealingLR(optimizer_C, T_max=50, eta_min=0.0000001)"
   ]
  },
  {
   "cell_type": "code",
   "execution_count": 27,
   "id": "58f17a6d-3046-459e-ac92-4cdcc51a585c",
   "metadata": {},
   "outputs": [
    {
     "data": {
      "text/plain": [
       "==========================================================================================\n",
       "Layer (type:depth-idx)                   Output Shape              Param #\n",
       "==========================================================================================\n",
       "Classifier                               [1, 4]                    --\n",
       "├─Sequential: 1-1                        [1, 128, 1, 1]            --\n",
       "│    └─CNNBlock: 2-1                     [1, 32, 11, 11]           --\n",
       "│    │    └─Sequential: 3-1              [1, 32, 11, 11]           1,760\n",
       "│    └─CNNBlock: 2-2                     [1, 64, 4, 4]             --\n",
       "│    │    └─Sequential: 3-2              [1, 64, 4, 4]             18,496\n",
       "│    └─CNNBlock: 2-3                     [1, 128, 1, 1]            --\n",
       "│    │    └─Sequential: 3-3              [1, 128, 1, 1]            73,856\n",
       "├─Sequential: 1-2                        [1, 4]                    --\n",
       "│    └─Linear: 2-4                       [1, 128]                  16,512\n",
       "│    └─LeakyReLU: 2-5                    [1, 128]                  --\n",
       "│    └─Linear: 2-6                       [1, 96]                   12,384\n",
       "│    └─LeakyReLU: 2-7                    [1, 96]                   --\n",
       "│    └─Linear: 2-8                       [1, 64]                   6,208\n",
       "│    └─LeakyReLU: 2-9                    [1, 64]                   --\n",
       "│    └─Linear: 2-10                      [1, 32]                   2,080\n",
       "│    └─LeakyReLU: 2-11                   [1, 32]                   --\n",
       "│    └─Linear: 2-12                      [1, 16]                   528\n",
       "│    └─Tanh: 2-13                        [1, 16]                   --\n",
       "│    └─Linear: 2-14                      [1, 4]                    68\n",
       "│    └─Softmax: 2-15                     [1, 4]                    --\n",
       "==========================================================================================\n",
       "Total params: 131,892\n",
       "Trainable params: 131,892\n",
       "Non-trainable params: 0\n",
       "Total mult-adds (M): 2.76\n",
       "==========================================================================================\n",
       "Input size (MB): 0.02\n",
       "Forward/backward pass size (MB): 0.18\n",
       "Params size (MB): 0.53\n",
       "Estimated Total Size (MB): 0.73\n",
       "=========================================================================================="
      ]
     },
     "execution_count": 27,
     "metadata": {},
     "output_type": "execute_result"
    }
   ],
   "source": [
    "from torchinfo import summary\n",
    "summary(classifier, input_size=[(1, 6, 25, 25)])"
   ]
  },
  {
   "cell_type": "code",
   "execution_count": 28,
   "id": "2d4a3006-be31-4aee-9378-13a1c756e2ab",
   "metadata": {},
   "outputs": [],
   "source": [
    "def train_C(model, dataloader, optimizer):\n",
    "    model.train()\n",
    "\n",
    "    losses = []\n",
    "    accuracies = []\n",
    "\n",
    "    for source_data, source_label, target_data, target_label in dataloader:\n",
    "        optimizer.zero_grad()\n",
    "\n",
    "        sequences = torch.concat([source_data[:, :, :6], target_data[::3, :, :6]])\n",
    "        labels = torch.concat([source_label, target_label[::3]])\n",
    "        \n",
    "        sequences = sequences.to(device)\n",
    "        recurrence_plot = generate_recurrence_plot_tensor(sequences)\n",
    "        \n",
    "        one_hot = F.one_hot(labels, num_classes=num_of_classes).to(device).float()\n",
    "\n",
    "        #############\n",
    "        # generator #\n",
    "        #############\n",
    "        predict_probability = model(recurrence_plot)\n",
    "        \n",
    "        predict_probability = predict_probability.reshape((-1, num_of_classes))\n",
    "        one_hot = one_hot.reshape((-1, num_of_classes))\n",
    "        loss = ce_loss(predict_probability, one_hot)\n",
    "        \n",
    "        # backward\n",
    "        loss.backward()\n",
    "        optimizer.step()\n",
    "        \n",
    "        _, predict_classes = torch.max(predict_probability, 1)\n",
    "        predict_classes = predict_classes.cpu().detach().numpy()\n",
    "        _, labels = torch.max(one_hot, 1)\n",
    "        labels = labels.cpu().detach().numpy()\n",
    "        \n",
    "        losses.append(loss.item())\n",
    "        accuracies.append(accuracy_score(labels, predict_classes))\n",
    "    \n",
    "    return np.mean(losses), np.mean(accuracies)"
   ]
  },
  {
   "cell_type": "code",
   "execution_count": 29,
   "id": "0fe3c5bb-2e6d-4e27-bd7b-5424da79d491",
   "metadata": {},
   "outputs": [],
   "source": [
    "def evalute_C(model, dataloader):\n",
    "    model.eval()\n",
    "\n",
    "    losses = []\n",
    "    accuracies = []\n",
    "    \n",
    "    with torch.no_grad():\n",
    "        for source_data, source_label, target_data, target_label in dataloader:\n",
    "            \n",
    "            sequences = torch.concat([source_data[:, :, :6], target_data[:, :, :6]])\n",
    "            labels = torch.concat([source_label, target_label])\n",
    "            \n",
    "            sequences = sequences.to(device)\n",
    "            recurrence_plot = generate_recurrence_plot_tensor(sequences)\n",
    "            \n",
    "            one_hot = F.one_hot(labels, num_classes=num_of_classes).to(device).float()\n",
    "\n",
    "            #############\n",
    "            # generator #\n",
    "            #############\n",
    "            predict_probability = model(recurrence_plot)\n",
    "            \n",
    "            predict_probability = predict_probability.reshape((-1, num_of_classes))\n",
    "            one_hot = one_hot.reshape((-1, num_of_classes))\n",
    "            loss = ce_loss(predict_probability, one_hot)\n",
    "\n",
    "            _, predict_classes = torch.max(predict_probability, 1)\n",
    "            predict_classes = predict_classes.cpu().detach().numpy()\n",
    "            _, labels = torch.max(one_hot, 1)\n",
    "            labels = labels.cpu().detach().numpy()\n",
    "            \n",
    "            losses.append(loss.item())\n",
    "            accuracies.append(accuracy_score(labels, predict_classes))\n",
    "    \n",
    "    return np.mean(losses), np.mean(accuracies)"
   ]
  },
  {
   "cell_type": "code",
   "execution_count": 30,
   "id": "d01fd93b-ff56-474b-8e56-e3820a1052c2",
   "metadata": {},
   "outputs": [
    {
     "name": "stdout",
     "output_type": "stream",
     "text": [
      "00100: train loss: 1.020, acc: 0.715   valid loss: 0.899, acc: 0.828\n",
      "00200: train loss: 0.885, acc: 0.906   valid loss: 0.813, acc: 0.962\n",
      "00300: train loss: 0.857, acc: 0.892   valid loss: 0.792, acc: 0.956\n",
      "00400: train loss: 0.779, acc: 0.968   valid loss: 0.760, acc: 0.986\n",
      "00500: train loss: 0.990, acc: 0.754   valid loss: 0.814, acc: 0.928\n",
      "00600: train loss: 0.775, acc: 0.968   valid loss: 0.759, acc: 0.984\n",
      "00700: train loss: 0.768, acc: 0.975   valid loss: 0.778, acc: 0.966\n",
      "00800: train loss: 0.790, acc: 0.954   valid loss: 0.771, acc: 0.971\n",
      "00900: train loss: 0.767, acc: 0.976   valid loss: 0.770, acc: 0.972\n",
      "01000: train loss: 0.761, acc: 0.982   valid loss: 0.757, acc: 0.987\n",
      "01100: train loss: 0.762, acc: 0.981   valid loss: 0.763, acc: 0.981\n",
      "01200: train loss: 0.772, acc: 0.971   valid loss: 0.757, acc: 0.987\n",
      "01300: train loss: 0.762, acc: 0.982   valid loss: 0.761, acc: 0.983\n",
      "01400: train loss: 0.766, acc: 0.977   valid loss: 0.787, acc: 0.957\n",
      "01500: train loss: 0.761, acc: 0.983   valid loss: 0.765, acc: 0.979\n",
      "01600: train loss: 0.763, acc: 0.981   valid loss: 0.758, acc: 0.985\n",
      "01700: train loss: 0.773, acc: 0.970   valid loss: 0.756, acc: 0.987\n",
      "01800: train loss: 0.762, acc: 0.982   valid loss: 0.757, acc: 0.986\n",
      "01900: train loss: 0.780, acc: 0.963   valid loss: 0.761, acc: 0.983\n",
      "02000: train loss: 0.768, acc: 0.975   valid loss: 0.767, acc: 0.977\n"
     ]
    }
   ],
   "source": [
    "for epoch in range(2000):\n",
    "    train_loss, train_acc = train_C(classifier, train_loader, optimizer_C)\n",
    "    lr_scheduler.step()\n",
    "    valid_loss, valid_acc = evalute_C(classifier, valid_loader)\n",
    "    \n",
    "    if (epoch + 1) % 100 == 0:\n",
    "        ep = str(epoch + 1).zfill(5)\n",
    "        print(f'{ep}: train loss: {train_loss:2.3f}, acc: {train_acc:2.3f}   valid loss: {valid_loss:2.3f}, acc: {valid_acc:2.3f}')"
   ]
  },
  {
   "cell_type": "code",
   "execution_count": 30,
   "id": "6764c394-d848-427f-be60-58e1a36b0b4d",
   "metadata": {},
   "outputs": [
    {
     "data": {
      "text/plain": [
       "(tensor([1, 1, 1, 1, 1, 1, 1, 1, 1, 1, 1, 1, 1, 1, 1, 1, 1, 1, 1, 1, 1, 1, 1, 1,\n",
       "         1, 1, 1, 1, 1, 1, 1, 1, 1, 1, 1, 1, 1, 1, 1, 1, 1, 1, 1, 1, 1, 1, 1, 1,\n",
       "         1, 1, 1, 1, 1, 1, 1, 1, 1, 1, 1, 1, 1, 1, 1, 1, 1, 1, 1, 1, 1, 1, 1, 1,\n",
       "         1, 1, 1, 1, 1, 1, 1, 1, 1, 1, 1, 1, 1, 1, 1, 1, 1, 1, 1, 1, 1, 1, 1, 1,\n",
       "         1, 1, 1, 1, 1, 1, 1, 1, 1, 1, 1, 1, 1, 1, 1, 1, 1, 1, 1, 1, 1, 1, 1, 1,\n",
       "         1, 1, 1, 1, 1, 1, 1, 1, 1, 1, 1, 1, 1, 1, 1, 1, 1, 1, 1, 1, 1, 1, 1, 1,\n",
       "         1, 1, 1, 1, 1, 1, 1, 1, 1, 1, 1, 1, 1, 1, 1, 1, 1, 1, 1, 1, 1, 1, 1, 1,\n",
       "         1, 1, 1, 1, 1, 1, 1, 1, 1, 1, 1, 1, 1, 1, 1, 1, 1, 1, 1, 1, 1, 1, 1, 1,\n",
       "         1, 1, 1, 1, 1, 1, 1, 1, 1, 1, 1, 1, 1, 1, 1, 1, 1, 1, 1, 1, 1, 1, 1, 1,\n",
       "         1, 1, 1, 1, 1, 1, 1, 1, 1, 1, 1, 1, 1, 1, 1, 1, 1, 1, 1, 1, 1, 1, 1, 1,\n",
       "         1, 1, 1, 1, 1, 1, 1, 1, 1, 1, 1, 1, 1, 1, 1, 1, 1, 1, 1, 1, 1, 1, 1, 1,\n",
       "         1, 1, 1, 1, 1, 1, 1, 1, 1, 1, 1, 1, 1, 1, 1, 1, 1, 1, 1, 1, 1, 1, 1, 1,\n",
       "         1, 1, 1, 1, 1, 1, 1, 1, 1, 1, 1, 1, 1, 1, 1, 1, 1, 1, 1, 1, 1, 1, 1, 1,\n",
       "         1, 1, 1, 1, 1, 1, 1, 1, 1, 1, 1, 1, 1, 1, 1, 1, 1, 1, 1, 1, 1, 1, 1, 1,\n",
       "         1, 1, 1, 1, 1, 1, 1, 1, 1, 1, 1, 1, 1, 1, 1, 1, 1, 1, 1, 1, 1, 1, 1, 1,\n",
       "         1, 1, 1, 1, 1, 1, 1, 1, 1, 1, 1, 1, 1, 1, 1, 1, 1, 1, 1, 1, 1, 1, 1, 1,\n",
       "         1, 1, 1, 1, 1, 1, 1, 1, 1, 1, 1, 1, 1, 1, 1, 1, 1, 1, 1, 1, 1, 1, 1, 1,\n",
       "         1, 1, 1, 1, 1, 1, 1, 1, 1, 1, 1, 1, 1, 1, 1, 1, 1, 1, 1, 1, 1, 1, 1, 1,\n",
       "         1, 1, 1, 1, 1, 1, 1, 1, 1, 1, 1, 2, 2, 2, 2, 2, 2, 2, 2, 2, 2, 2, 2, 2,\n",
       "         2, 2, 2, 2, 2, 2, 2, 2, 2, 2, 2, 2, 2, 2, 2, 2, 2, 2, 2, 2, 2, 2, 2, 2,\n",
       "         2, 2, 2, 2, 2, 2, 2, 2, 2, 2, 2, 2, 2, 2, 2, 2, 2, 2, 2, 2, 2, 2, 2, 2,\n",
       "         2, 2, 2, 2, 2, 2, 2, 2]),\n",
       " tensor([1, 1, 1, 1, 1, 1, 1, 1, 1, 1, 1, 1, 1, 1, 1, 1, 1, 1, 1, 1, 1, 1, 1, 1,\n",
       "         1, 1, 1, 1, 1, 1, 1, 1, 1, 1, 1, 1, 1, 1, 1, 1, 1, 1, 1, 1, 1, 1, 1, 1,\n",
       "         1, 1, 1, 1, 1, 1, 1, 1, 1, 1, 1, 1, 1, 1, 1, 1, 1, 1, 1, 1, 1, 1, 1, 1,\n",
       "         1, 1, 1, 1, 1, 1, 1, 1, 1, 1, 1, 1, 1, 1, 1, 1, 1, 1, 1, 1, 1, 1, 1, 1,\n",
       "         1, 1, 1, 1, 1, 1, 1, 1, 1, 1, 1, 1, 1, 1, 1, 1, 1, 3, 1, 1, 1, 1, 1, 1,\n",
       "         1, 1, 1, 1, 1, 1, 1, 1, 1, 1, 1, 1, 1, 1, 1, 1, 1, 1, 1, 1, 1, 1, 1, 1,\n",
       "         1, 1, 1, 1, 1, 1, 1, 1, 1, 1, 1, 1, 1, 1, 1, 1, 1, 1, 1, 1, 1, 1, 1, 1,\n",
       "         1, 1, 1, 1, 1, 1, 1, 1, 1, 1, 1, 1, 1, 1, 1, 1, 1, 1, 1, 1, 1, 1, 1, 1,\n",
       "         1, 1, 1, 1, 1, 1, 1, 1, 1, 1, 1, 1, 1, 1, 1, 1, 1, 1, 1, 1, 1, 1, 1, 1,\n",
       "         1, 1, 1, 1, 1, 1, 1, 1, 1, 1, 1, 1, 1, 1, 1, 1, 1, 1, 1, 1, 1, 1, 1, 1,\n",
       "         1, 1, 1, 1, 1, 1, 1, 1, 1, 1, 1, 1, 1, 1, 1, 1, 1, 1, 1, 1, 1, 1, 1, 1,\n",
       "         1, 1, 1, 1, 1, 1, 1, 1, 1, 1, 1, 1, 1, 1, 1, 1, 1, 1, 1, 1, 1, 1, 1, 1,\n",
       "         1, 1, 1, 1, 1, 1, 1, 1, 1, 1, 1, 1, 1, 1, 1, 1, 1, 1, 1, 1, 1, 1, 1, 1,\n",
       "         1, 1, 1, 1, 1, 1, 1, 1, 1, 1, 1, 1, 1, 1, 1, 1, 1, 1, 1, 1, 1, 1, 1, 1,\n",
       "         1, 1, 1, 1, 1, 1, 1, 1, 1, 1, 1, 1, 1, 1, 1, 1, 1, 1, 1, 1, 1, 1, 1, 1,\n",
       "         1, 1, 1, 1, 1, 1, 1, 1, 1, 1, 1, 1, 1, 1, 1, 1, 1, 1, 1, 1, 1, 1, 1, 1,\n",
       "         1, 1, 1, 1, 1, 1, 1, 1, 1, 1, 1, 1, 1, 1, 1, 1, 1, 1, 1, 1, 1, 1, 1, 1,\n",
       "         1, 1, 1, 1, 1, 1, 1, 1, 1, 1, 1, 1, 1, 1, 1, 1, 1, 1, 1, 1, 1, 1, 1, 1,\n",
       "         1, 1, 1, 1, 1, 1, 1, 1, 1, 1, 1, 2, 2, 2, 2, 2, 2, 2, 2, 2, 2, 2, 2, 2,\n",
       "         2, 2, 2, 2, 2, 2, 2, 1, 2, 2, 2, 1, 2, 2, 2, 2, 2, 2, 2, 2, 2, 1, 1, 2,\n",
       "         2, 2, 2, 2, 2, 2, 2, 2, 2, 2, 2, 2, 2, 2, 2, 2, 2, 2, 2, 2, 2, 2, 2, 2,\n",
       "         2, 2, 2, 2, 2, 2, 2, 2], device='cuda:0'))"
      ]
     },
     "execution_count": 30,
     "metadata": {},
     "output_type": "execute_result"
    }
   ],
   "source": [
    "sd, sl, _, _ = next(iter(valid_loader))\n",
    "recurrence_plot = generate_recurrence_plot_tensor(sd[:, :, :6])\n",
    "prob, onehot, res = classifier.predict_label(recurrence_plot.cuda())\n",
    "sl, res"
   ]
  },
  {
   "cell_type": "code",
   "execution_count": 31,
   "id": "ae0a8d8c-2aa0-422d-8cdf-f5e019c67a1f",
   "metadata": {},
   "outputs": [],
   "source": [
    "#del sd, sl, recurrence_plot, prob, onehot, res"
   ]
  },
  {
   "cell_type": "markdown",
   "id": "5967d8fd-b6dd-4aca-ba04-1f8ffbd9f834",
   "metadata": {},
   "source": [
    "# Train whole model"
   ]
  },
  {
   "cell_type": "code",
   "execution_count": null,
   "id": "f901199a-5020-4b74-bf99-f0fcc33e7117",
   "metadata": {},
   "outputs": [],
   "source": [
    "class NotSimpleTransformer(nn.Module):\n",
    "    def __init__(self,seq_len=21, num_of_classes=2):\n",
    "        super(NotSimpleTransformer, self).__init__()"
   ]
  },
  {
   "cell_type": "code",
   "execution_count": null,
   "id": "3a8f5097-7203-43ff-9020-76d38adfd545",
   "metadata": {},
   "outputs": [],
   "source": [
    "model = NotSimpleTransformer(chunk_size=chunk_size, seq_len=seq_len, num_of_classes=num_of_classes).to(device)\n",
    "# discriminator = Discriminator(chunk_size=chunk_size, seq_len=seq_len).to(device)\n",
    "optimizer = torch.optim.Adam(model.parameters(), lr=0.00005)\n",
    "# optimizer_D = torch.optim.Adam(discriminator.parameters(), lr=0.000025)"
   ]
  },
  {
   "cell_type": "code",
   "execution_count": null,
   "id": "9fec0d49-bec9-4777-be88-ba2261557cc0",
   "metadata": {},
   "outputs": [],
   "source": [
    "def plot_result(result):\n",
    "    pred_mag = result[0].reshape(-1, 3)\n",
    "    targ_mag = result[1].reshape(-1, 3)\n",
    "    x = np.arange(len(pred_mag))\n",
    "    \n",
    "    loss = mse_loss(torch.tensor(pred_mag), torch.tensor(targ_mag)).item()\n",
    "    \n",
    "    fig = plt.figure(figsize=(15, 5))\n",
    "    \n",
    "    for pm, tm, caxis, color in zip(pred_mag.T, targ_mag.T, ['x', 'y', 'z'], ['tab:blue', 'tab:orange', 'tab:green']):\n",
    "        plt.plot(x, pm, label=f'pred_{caxis}', color=color, linewidth=2.5, zorder=2)\n",
    "        plt.plot(x, tm, '--', label=f'targ_{caxis}', color=color, linewidth=1, alpha=0.8, zorder=1)\n",
    "    \n",
    "    for i in range(0, chunk_size+1):\n",
    "        plt.axvline(x=int(i * seq_len - 0.5), linewidth=0.5, linestyle='-', color='k', alpha=0.5)\n",
    "    \n",
    "    plt.suptitle(f'Loss: {loss:.2f}')\n",
    "    plt.legend()\n",
    "    plt.show()"
   ]
  },
  {
   "cell_type": "code",
   "execution_count": null,
   "id": "eba50865-9a85-43cb-8719-61f8868194cf",
   "metadata": {},
   "outputs": [],
   "source": [
    "def train(dataloader, draw=False):\n",
    "    model.train()\n",
    "    classifier.eval()\n",
    "\n",
    "    g_losses = []\n",
    "    imu_losses = []\n",
    "    mag_losses = []\n",
    "    d1_losses = []\n",
    "\n",
    "    for source_data, source_label, target_data, target_label in dataloader:\n",
    "        optimizer.zero_grad()\n",
    "\n",
    "        source_data = source_data.to(device)\n",
    "        source_imu = source_data[:, :, :, :6]\n",
    "        source_mag = source_data[:, :, :, 6:9]\n",
    "        \n",
    "        target_data = target_data.to(device)\n",
    "        target_imu = target_data[:, :, :, :6]\n",
    "        target_mag = target_data[:, :, :, 6:9]\n",
    "\n",
    "        # generate mag\n",
    "        class_result = classifier.predict_label(source_imu)\n",
    "        \n",
    "        z_imu, predict_mag = model(source_imu, source_mag, class_result)\n",
    "        \n",
    "        # generator loss\n",
    "        gen_loss, imu_loss, mag_loss, d1_loss = generator_loss(z_imu, target_imu, predict_mag, target_mag)\n",
    "        \n",
    "        # backward\n",
    "        gen_loss.backward()\n",
    "        optimizer.step()\n",
    "        \n",
    "        # record loss\n",
    "        g_losses.append(gen_loss.item())\n",
    "        imu_losses.append(imu_loss.item())\n",
    "        mag_losses.append(mag_loss.item())\n",
    "        d1_losses.append(d1_loss.item())\n",
    "    \n",
    "    if draw:\n",
    "        rs = [predict_mag[0].detach().cpu().numpy(), target_mag[0].cpu().numpy()]\n",
    "        plot_result(rs)\n",
    "    \n",
    "    return np.mean(g_losses), np.mean(imu_losses), np.mean(mag_losses), np.mean(d1_losses)"
   ]
  },
  {
   "cell_type": "code",
   "execution_count": null,
   "id": "8cb16192-e16c-4d77-bc8f-7d1b6eff1fc5",
   "metadata": {},
   "outputs": [],
   "source": [
    "def evalute(dataloader, draw=False):\n",
    "    model.eval()\n",
    "    classifier.eval()\n",
    "\n",
    "    g_losses = []\n",
    "    imu_losses = []\n",
    "    mag_losses = []\n",
    "    d1_losses = []\n",
    "    \n",
    "    with torch.no_grad():\n",
    "        for source_data, source_label, target_data, target_label in dataloader:\n",
    "            source_data = source_data.to(device)\n",
    "            source_imu = source_data[:, :, :, :6]\n",
    "            source_mag = source_data[:, :, :, 6:9]\n",
    "\n",
    "            target_data = target_data.to(device)\n",
    "            target_imu = target_data[:, :, :, :6]\n",
    "            target_mag = target_data[:, :, :, 6:9]\n",
    "\n",
    "            # generate mag\n",
    "            class_result = classifier.predict_label(source_imu)\n",
    "            \n",
    "            z_imu, predict_mag = model(source_imu, source_mag, class_result)\n",
    "\n",
    "            # generator loss\n",
    "            gen_loss, imu_loss, mag_loss, d1_loss = generator_loss(z_imu, target_imu, predict_mag, target_mag)\n",
    "\n",
    "            # record loss\n",
    "            g_losses.append(gen_loss.item())\n",
    "            imu_losses.append(imu_loss.item())\n",
    "            mag_losses.append(mag_loss.item())\n",
    "            d1_losses.append(d1_loss.item())\n",
    "    \n",
    "    if draw:\n",
    "        rs = [predict_mag[0].detach().cpu().numpy(), target_mag[0].cpu().numpy()]\n",
    "        plot_result(rs)\n",
    "    \n",
    "    return np.mean(g_losses), np.mean(imu_losses), np.mean(mag_losses), np.mean(d1_losses)"
   ]
  },
  {
   "cell_type": "code",
   "execution_count": null,
   "id": "a8754fe8-3516-4cd9-8c5a-cf81084e2465",
   "metadata": {},
   "outputs": [],
   "source": [
    "from torchinfo import summary\n",
    "summary(model, input_size=[(1, 7, 21, 6), (1, 7, 21, 3), (1, 7, 4)])"
   ]
  },
  {
   "cell_type": "code",
   "execution_count": null,
   "id": "017e651a-66ef-44aa-951b-3ef632d6bfcb",
   "metadata": {},
   "outputs": [],
   "source": [
    "for param in classifier.parameters():\n",
    "    param.requires_grad = False"
   ]
  },
  {
   "cell_type": "code",
   "execution_count": null,
   "id": "3d4fc917-c3da-4c6c-94b5-2fb7d8c4b11d",
   "metadata": {
    "tags": []
   },
   "outputs": [],
   "source": [
    "def check():\n",
    "    for source_data, source_label, target_data, target_label in train_loader:\n",
    "        source_data = source_data.to(device)\n",
    "        source_imu = source_data[:, :, :, :6]\n",
    "        source_mag = source_data[:, :, :, 6:9]\n",
    "        \n",
    "        predict_probability, _ = classifier(source_imu)\n",
    "        predict_probability = predict_probability.reshape((-1, num_of_classes))\n",
    "        _, predict_classes = torch.max(predict_probability, 1)\n",
    "        one_hot = F.one_hot(predict_classes, num_classes=num_of_classes).to(device).float()\n",
    "        class_result = one_hot.reshape(-1, chunk_size, num_of_classes)\n",
    "        \n",
    "        ### step 1\n",
    "        h_imu = model.imu_layer(source_imu)\n",
    "        h_imu = h_imu.reshape((len(source_imu), chunk_size, -1))\n",
    "        h_imu = model.pos_encoder(h_imu)\n",
    "        \n",
    "        h_mag = model.mag_layer(source_mag)\n",
    "        h_mag = h_mag.reshape((len(source_mag), chunk_size, -1))\n",
    "        h_mag = model.pos_encoder(h_mag)\n",
    "        \n",
    "        ### step 2\n",
    "        z = model.encoder(h_imu)\n",
    "        z_imu = z.reshape((len(source_imu), chunk_size, seq_len, -1))\n",
    "        z_imu = model.nn(z_imu)\n",
    "\n",
    "        z_class = torch.concat([z, class_result], dim=-1)\n",
    "        task_latent = model.task_controller_net(z_class)\n",
    "        \n",
    "        ### step 3\n",
    "        pred_latent = model.decoder(h_mag, z)\n",
    "        pred_mag = pred_latent.reshape((len(source_mag), chunk_size, seq_len, -1))\n",
    "        \n",
    "        pred_mag = pred_mag + task_latent[:, :, None, :]\n",
    "        pred_mag = model.mag_last(pred_mag)\n",
    "        \n",
    "        \n",
    "        return z_imu, pred_mag"
   ]
  },
  {
   "cell_type": "code",
   "execution_count": null,
   "id": "f5e74f03-1f6e-4245-976b-7ef42b7c366c",
   "metadata": {},
   "outputs": [],
   "source": [
    "draw = False\n",
    "\n",
    "for epoch in range(EPOCH):\n",
    "    \n",
    "    if (epoch + 1) % 200 == 0:\n",
    "        draw = True\n",
    "    \n",
    "    train_loss, train_imu_loss, train_mag_loss, t_d1_loss = train(train_loader, draw)\n",
    "    valid_loss, valid_imu_loss, valid_mag_loss, v_d1_loss = evalute(valid_loader, draw)\n",
    "    \n",
    "    draw = False\n",
    "    \n",
    "    if (epoch + 1) % 20 == 0:\n",
    "        ep = str(epoch).zfill(5)\n",
    "        print(f'{ep:>5}: train loss: {train_loss: 2.3f}, imu loss: {train_imu_loss: 2.3f}, mag loss: {train_mag_loss: 2.3f}, div loss: {t_d1_loss: 2.3f}\\n' +\n",
    "              f'{\"\":>5}  valid loss: {valid_loss: 2.3f}, imu loss: {valid_imu_loss: 2.3f}, mag loss: {valid_mag_loss: 2.3f}, div loss: {v_d1_loss: 2.3f}')"
   ]
  },
  {
   "cell_type": "code",
   "execution_count": null,
   "id": "c4d28d2b-c05c-4053-81ab-da651c91028b",
   "metadata": {},
   "outputs": [],
   "source": [
    "def output_eval(model, dataloader):\n",
    "    model.eval()\n",
    "    \n",
    "    results = []\n",
    "    class_results = []\n",
    "    class_labels = []\n",
    "    \n",
    "    with torch.no_grad():\n",
    "        for source_data, source_label, target_data, target_label in dataloader:\n",
    "            source_data = source_data.to(device)\n",
    "            source_imu = source_data[:, :, :, :6]\n",
    "            source_mag = source_data[:, :, :, 6:9]\n",
    "\n",
    "            target_data = target_data.to(device)\n",
    "            target_imu = target_data[:, :, :, :6]\n",
    "            target_mag = target_data[:, :, :, 6:9]\n",
    "            \n",
    "            class_result = classifier.predict_label(source_imu)\n",
    "\n",
    "            # generate mag\n",
    "            z_imu, predict_mag = model(source_imu, source_mag, class_result)\n",
    "            \n",
    "\n",
    "            # generator loss\n",
    "#             gen_loss, imu_loss, mag_loss = generator_loss(z_imu, target_imu, predict_mag, target_mag)\n",
    "\n",
    "            # record loss\n",
    "            predict_mag = predict_mag.detach().cpu().numpy()\n",
    "            target_mag = target_mag.cpu().numpy()\n",
    "            source_label = source_label.detach().cpu().numpy()\n",
    "            \n",
    "            results.extend(zip(predict_mag, target_mag, source_label))\n",
    "            \n",
    "            diff = np.power(predict_mag.reshape(len(predict_mag), -1, 3) - target_mag.reshape(len(target_mag), -1, 3), 2).mean(axis=1)\n",
    "            class_results.extend(diff)\n",
    "            class_labels.extend(source_label)\n",
    "    \n",
    "    return np.array(results, dtype=object), np.array(class_results), np.array(class_labels)"
   ]
  },
  {
   "cell_type": "code",
   "execution_count": null,
   "id": "939dee9b-ce00-4ab3-a471-02eeecec79af",
   "metadata": {},
   "outputs": [],
   "source": [
    "def plot_result(result):\n",
    "    pred_mag = result[0].reshape(-1, 3)\n",
    "    targ_mag = result[1].reshape(-1, 3)\n",
    "    source_label = result[2]\n",
    "    x = np.arange(len(pred_mag))\n",
    "    \n",
    "    loss = mse_loss(torch.tensor(pred_mag), torch.tensor(targ_mag)).item()\n",
    "    \n",
    "    fig = plt.figure(figsize=(15, 5))\n",
    "    \n",
    "    for pm, tm, caxis, color in zip(pred_mag.T, targ_mag.T, ['x', 'y', 'z'], ['tab:blue', 'tab:orange', 'tab:green']):\n",
    "        plt.plot(x, pm, label=f'pred_{caxis}', color=color, linewidth=2.5, zorder=2)\n",
    "        plt.plot(x, tm, '--', label=f'targ_{caxis}', color=color, linewidth=1, alpha=0.8, zorder=1)\n",
    "    \n",
    "    for i in range(0, chunk_size+1):\n",
    "        plt.axvline(x=int(i * seq_len - 0.5), linewidth=0.5, linestyle='-', color='k', alpha=0.5)\n",
    "    \n",
    "    plt.suptitle(f'{classes[source_label]}   Loss: {loss:.2f}')\n",
    "    plt.legend()\n",
    "    plt.show()"
   ]
  },
  {
   "cell_type": "code",
   "execution_count": null,
   "id": "4f1c0beb-8280-4a77-a23a-e421405bb981",
   "metadata": {},
   "outputs": [],
   "source": [
    "results, cres, clabel = output_eval(model, train_loader)\n",
    "print(cres.shape, clabel.shape)\n",
    "\n",
    "print(f'{\"loss name\":>20}| {\"diff x\":>8} {\"diff y\":>8} {\"diff z\":>8} {\"avg\":>8}')\n",
    "for class_label, class_name in classes.items():\n",
    "    if sum(clabel == class_label) <= 0:\n",
    "        continue\n",
    "    dx, dy, dz = cres[clabel == class_label].mean(axis=0)\n",
    "    print(f'{class_name:>15} loss: {dx:>8.2f} {dy:>8.2f} {dz:>8.2f} {np.mean([dx, dy, dz]):>8.2f}')\n",
    "dx, dy, dz = cres.mean(axis=0)\n",
    "print(f'{\"average\":>15} loss: {dx:>8.2f} {dy:>8.2f} {dz:>8.2f} {np.mean([dx, dy, dz]):>8.2f}')\n",
    "\n",
    "for rs in results[::5000]:\n",
    "    plot_result(rs)"
   ]
  },
  {
   "cell_type": "code",
   "execution_count": null,
   "id": "28dca13b-1f6d-40dc-895d-8ce7403c954a",
   "metadata": {},
   "outputs": [],
   "source": [
    "results, cres, clabel = output_eval(model, valid_loader)\n",
    "print(cres.shape, clabel.shape)\n",
    "\n",
    "print(f'{\"loss name\":>20}| {\"diff x\":>8} {\"diff y\":>8} {\"diff z\":>8} {\"avg\":>8}')\n",
    "for class_label, class_name in classes.items():\n",
    "    if sum(clabel == class_label) <= 0:\n",
    "        continue\n",
    "    dx, dy, dz = cres[clabel == class_label].mean(axis=0)\n",
    "    print(f'{class_name:>15} loss: {dx:>8.2f} {dy:>8.2f} {dz:>8.2f} {np.mean([dx, dy, dz]):>8.2f}')\n",
    "dx, dy, dz = cres.mean(axis=0)\n",
    "print(f'{\"average\":>15} loss: {dx:>8.2f} {dy:>8.2f} {dz:>8.2f} {np.mean([dx, dy, dz]):>8.2f}')\n",
    "\n",
    "for rs in results[::50]:\n",
    "    plot_result(rs)"
   ]
  },
  {
   "cell_type": "code",
   "execution_count": null,
   "id": "ecf58007-cc88-4b25-8844-b3fe898ad6d0",
   "metadata": {},
   "outputs": [],
   "source": []
  },
  {
   "cell_type": "code",
   "execution_count": null,
   "id": "b674c46f-c42f-4416-afc9-bf5484da583a",
   "metadata": {},
   "outputs": [],
   "source": []
  },
  {
   "cell_type": "code",
   "execution_count": null,
   "id": "2d1d7a77-c59f-4a38-9501-0f7c1c378d97",
   "metadata": {},
   "outputs": [],
   "source": []
  }
 ],
 "metadata": {
  "kernelspec": {
   "display_name": "Mag39",
   "language": "python",
   "name": "mag39"
  },
  "language_info": {
   "codemirror_mode": {
    "name": "ipython",
    "version": 3
   },
   "file_extension": ".py",
   "mimetype": "text/x-python",
   "name": "python",
   "nbconvert_exporter": "python",
   "pygments_lexer": "ipython3",
   "version": "3.9.12"
  }
 },
 "nbformat": 4,
 "nbformat_minor": 5
}
