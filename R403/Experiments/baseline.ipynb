{
 "cells": [
  {
   "cell_type": "code",
   "execution_count": 1,
   "id": "d5750390-c081-4bcd-bc4e-c6617afc3cfb",
   "metadata": {},
   "outputs": [],
   "source": [
    "import numpy as np\n",
    "from scipy.spatial.transform import Rotation as R\n",
    "from collections import defaultdict"
   ]
  },
  {
   "cell_type": "code",
   "execution_count": 2,
   "id": "2b09e859-7aa7-4078-bc4c-2d07e828ad4c",
   "metadata": {
    "tags": []
   },
   "outputs": [],
   "source": [
    "def read_data(filename):\n",
    "    validation_traj = np.load(filename, allow_pickle=True)\n",
    "    valid_data = validation_traj.item()\n",
    "    pose_set = set()\n",
    "    for user_name in valid_data.keys():\n",
    "        for path_name in valid_data[user_name].keys():\n",
    "            for posture_name in valid_data[user_name][path_name].keys():\n",
    "                pose_set.add(posture_name)\n",
    "    posture_data = defaultdict(list)\n",
    "\n",
    "    for user_name in valid_data.keys():\n",
    "        for path_name in valid_data[user_name].keys():\n",
    "            for posture_name in valid_data[user_name][path_name].keys():\n",
    "                data = valid_data[user_name][path_name][posture_name]\n",
    "                pos = (data[:, [0, 1]] + np.array((1, 1))) * 0.6\n",
    "                mag = data[:, [3, 4, 5, 6, 7, 8, 12, 13, 14]]\n",
    "                gravity_direction = estimate_gravity(mag[:, 0:3], mag[:, 3:6])\n",
    "                aligned_magnetometer_data = align_magnetometer_with_gravity(mag[:, 6:9], gravity_direction)\n",
    "                pos_mag = np.concatenate((pos, aligned_magnetometer_data), axis=-1)\n",
    "                posture_data[posture_name].append(pos_mag)\n",
    "    \n",
    "    return posture_data"
   ]
  },
  {
   "cell_type": "code",
   "execution_count": 3,
   "id": "10695ce4-c6c4-42ec-be65-bc48e51e8169",
   "metadata": {},
   "outputs": [],
   "source": [
    "def split_traj(trajs, length=20):\n",
    "    sp_traj = []\n",
    "    for traj in trajs:\n",
    "        for i in range(len(traj) - length + 1):\n",
    "            sp_traj.append(traj[i:i+length])\n",
    "    return np.array(sp_traj)"
   ]
  },
  {
   "cell_type": "code",
   "execution_count": 4,
   "id": "06286c28-54a5-4381-bd62-90b1f07b7d4c",
   "metadata": {},
   "outputs": [],
   "source": [
    "def estimate_gravity(gravity_included_acceleration, dynamic_acceleration):\n",
    "    raw_gravity_vector = np.array(gravity_included_acceleration) - np.array(dynamic_acceleration)\n",
    "    gravity_direction = raw_gravity_vector / np.linalg.norm(raw_gravity_vector)\n",
    "    return gravity_direction"
   ]
  },
  {
   "cell_type": "code",
   "execution_count": 5,
   "id": "20640745-41c6-4491-a331-8b4fab4ebe17",
   "metadata": {},
   "outputs": [],
   "source": [
    "def align_magnetometer_with_gravity(magnetometer_data, gravity_direction):\n",
    "    target_gravity_direction = np.array([0, 0, 1])\n",
    "    rotation_vector = np.cross(gravity_direction, target_gravity_direction)\n",
    "    rotation_vector_magnitude = np.linalg.norm(rotation_vector)\n",
    "    if rotation_vector_magnitude == 0:\n",
    "        return magnetometer_data  # 如果已经对齐，则不需要旋转\n",
    "    rotation_vector /= rotation_vector_magnitude\n",
    "    angle = np.arccos(np.dot(gravity_direction, target_gravity_direction))\n",
    "    rotation = R.from_rotvec(rotation_vector * angle[:, np.newaxis])\n",
    "    rotated_magnetometer_data = rotation.apply(magnetometer_data)\n",
    "    return rotated_magnetometer_data"
   ]
  },
  {
   "cell_type": "code",
   "execution_count": 6,
   "id": "2134c8e7-81f7-4741-8667-a6e395ef887d",
   "metadata": {},
   "outputs": [
    {
     "name": "stdout",
     "output_type": "stream",
     "text": [
      "(674, 20, 5)\n",
      "(674, 20, 5)\n",
      "(674, 20, 5)\n",
      "(674, 20, 5)\n",
      "(674, 20, 5)\n"
     ]
    }
   ],
   "source": [
    "filename = 'all_user_match_data.npy'\n",
    "posture_data = read_data(filename)\n",
    "for key, value in posture_data.items():\n",
    "    trajs = split_traj(value)\n",
    "    np.save(f'./baseline_npy/{key}.npy', trajs)\n",
    "    print(trajs.shape)"
   ]
  },
  {
   "cell_type": "code",
   "execution_count": null,
   "id": "2bd465d0-b524-4187-802e-5ff5a616ad28",
   "metadata": {},
   "outputs": [],
   "source": []
  }
 ],
 "metadata": {
  "kernelspec": {
   "display_name": "Mag39",
   "language": "python",
   "name": "mag39"
  },
  "language_info": {
   "codemirror_mode": {
    "name": "ipython",
    "version": 3
   },
   "file_extension": ".py",
   "mimetype": "text/x-python",
   "name": "python",
   "nbconvert_exporter": "python",
   "pygments_lexer": "ipython3",
   "version": "3.9.12"
  }
 },
 "nbformat": 4,
 "nbformat_minor": 5
}
