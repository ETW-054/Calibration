{
 "cells": [
  {
   "cell_type": "code",
   "execution_count": 1,
   "id": "303e02ef-10a1-46f3-97ff-120e9cf07b6f",
   "metadata": {},
   "outputs": [],
   "source": [
    "import os\n",
    "import re\n",
    "import glob\n",
    "\n",
    "import numpy as np\n",
    "import pandas as pd\n",
    "import matplotlib.pyplot as plt"
   ]
  },
  {
   "cell_type": "code",
   "execution_count": 2,
   "id": "78e18bbb-7c55-4c10-a598-a655758046d5",
   "metadata": {},
   "outputs": [],
   "source": [
    "def moving_average(data, window):\n",
    "    padding_num = int(np.floor(window / 2))\n",
    "    start_padding = data[:padding_num].mean().repeat(padding_num)\n",
    "    end_padding = data[len(data)-padding_num:].mean().repeat(padding_num)\n",
    "\n",
    "    values = np.concatenate([start_padding, data, end_padding])\n",
    "\n",
    "    ret = np.cumsum(values, dtype=float)\n",
    "    ret[window:] = ret[window:] - ret[:-window]\n",
    "    return ret[window - 1:] / window\n",
    "\n",
    "\n",
    "class MovingAverager:\n",
    "    def __init__(self, windows):\n",
    "        if isinstance(windows, List):\n",
    "            self.windows = windows\n",
    "        elif isinstance(windows, int):\n",
    "            self.windows = [windows]\n",
    "        self.max_window = max(self.windows)\n",
    "    \n",
    "    def execute(self, data):\n",
    "        assert len(data) >= self.max_window\n",
    "        \n",
    "        result = np.zeros(len(data))\n",
    "\n",
    "        for window in self.windows:\n",
    "            result += moving_average(data=data, window=window)\n",
    "        result /= len(self.windows)\n",
    "\n",
    "        return result"
   ]
  },
  {
   "cell_type": "code",
   "execution_count": 3,
   "id": "e060fa75-7975-4992-a792-ea09b832c06b",
   "metadata": {},
   "outputs": [],
   "source": [
    "def read_from_folder(folder):\n",
    "    acc_df = pd.read_csv(os.path.join(folder, 'Accelerometer.csv'))\n",
    "    lin_acc_df = pd.read_csv(os.path.join(folder, 'Linear Accelerometer.csv'))\n",
    "    mag_df = pd.read_csv(os.path.join(folder, 'Magnetometer.csv'))\n",
    "    gyro_df = pd.read_csv(os.path.join(folder, 'Gyroscope.csv'))\n",
    "    \n",
    "    total_df = pd.concat([acc_df, gyro_df, lin_acc_df, mag_df], axis=1)\n",
    "    return total_df\n",
    "\n",
    "\n",
    "def rename_data(df):\n",
    "#     new_names = ['acc_times', 'acc_x', 'acc_y', 'acc_z', 'gyo_times', 'gyo_x', 'gyo_y', 'gyo_z', 'lin_acc_times', 'lin_acc_x', 'lin_acc_y', 'lin_acc_z', 'mag_times', 'mag_x', 'mag_y', 'mag_z']\n",
    "    new_names = ['times', 'acc_x', 'acc_y', 'acc_z', 'gyo_times', 'gyo_x', 'gyo_y', 'gyo_z', 'lin_acc_times', 'lin_acc_x', 'lin_acc_y', 'lin_acc_z', 'mag_times', 'mag_x', 'mag_y', 'mag_z']\n",
    "    df.columns = new_names\n",
    "    return df\n",
    "\n",
    "\n",
    "def gen_total_mag(df: pd.DataFrame):\n",
    "    df['mag_t'] = np.sqrt((df['mag_x'] ** 2) + (df['mag_y'] ** 2) + (df['mag_z'] ** 2))\n",
    "    return df\n",
    "\n",
    "\n",
    "def smooth(df):\n",
    "    for column in df.columns:\n",
    "        if 'time' in column:\n",
    "            continue\n",
    "        df[column] = moving_average(df[column].to_numpy(), 11)\n",
    "    return df\n",
    "\n",
    "\n",
    "def select_data(df):\n",
    "    return df[['times', 'acc_x', 'acc_y', 'acc_z', 'lin_acc_x', 'lin_acc_y', 'lin_acc_z', 'gyo_x', 'gyo_y', 'gyo_z', 'mag_x', 'mag_y', 'mag_z', 'mag_t']]\n",
    "\n",
    "\n",
    "def bound_range(df, datapoint_per_second=20):\n",
    "    start = int(datapoint_per_second * 1)\n",
    "    end = int(len(df) - datapoint_per_second * 1)\n",
    "    \n",
    "    return df.iloc[start:end].reset_index(drop=True)\n",
    "\n",
    "\n",
    "def load_data(folder):\n",
    "    total_df = read_from_folder(folder)\n",
    "    total_df = total_df[:-5]  # remove last None value row\n",
    "    total_df = rename_data(total_df)\n",
    "    \n",
    "    total_df = gen_total_mag(total_df)\n",
    "    total_df = smooth(total_df)\n",
    "    \n",
    "    total_df = select_data(total_df)\n",
    "    total_df = bound_range(total_df)\n",
    "    \n",
    "    return total_df"
   ]
  },
  {
   "cell_type": "code",
   "execution_count": 4,
   "id": "1da4c895-84b7-4050-aa86-c62b729d4ca2",
   "metadata": {},
   "outputs": [],
   "source": [
    "all_data = {}\n",
    "\n",
    "for user_folder in sorted(glob.glob('./R403_trajectory/user*')):\n",
    "    user = user_folder.split('/')[-1]\n",
    "    all_data[user] = {}\n",
    "    \n",
    "    for path_folder in sorted(glob.glob(os.path.join(user_folder, 'Path*'))):   \n",
    "        path = path_folder.split('/')[-1]\n",
    "\n",
    "        temp = {}\n",
    "        for i, posture_folder in enumerate(sorted(glob.glob(os.path.join(path_folder, '*[!zip]')))):\n",
    "            posture = posture_folder.split('/')[-1]\n",
    "\n",
    "            df = load_data(posture_folder)\n",
    "            temp[posture] = df.to_numpy()\n",
    "                \n",
    "        all_data[user][path] = temp"
   ]
  },
  {
   "cell_type": "code",
   "execution_count": 178,
   "id": "cf5b790f-ac7a-43c3-b254-37a259dc2acb",
   "metadata": {},
   "outputs": [],
   "source": [
    "for path_name in all_data['User1'].keys():\n",
    "    path_point = np.array(all_path[path_name])\n",
    "    \n",
    "    for posture in all_data['User1'][path_name].keys():\n",
    "        \n",
    "        data = all_data['User1'][path_name][posture]\n",
    "        \n",
    "        split_index = [i / (len(path_point) - 1) * (len(data) - 1) for i in range((len(path_point)))]\n",
    "        split_index = np.round(split_index).astype(int)\n",
    "        \n",
    "        sample_point = data[split_index]\n",
    "        all_data['User1'][path_name][posture] = np.concatenate((path_point, sample_point), axis=-1)"
   ]
  },
  {
   "cell_type": "code",
   "execution_count": 179,
   "id": "cbe111d6-bdf8-421d-b410-bbd755d1f20e",
   "metadata": {},
   "outputs": [],
   "source": [
    "np.save('./User1_data', all_data['User1'])"
   ]
  },
  {
   "cell_type": "code",
   "execution_count": 181,
   "id": "41927e07-29ce-46ba-b5c5-870de3e38e01",
   "metadata": {},
   "outputs": [],
   "source": [
    "np.save('./all_User_data', all_data)"
   ]
  },
  {
   "cell_type": "code",
   "execution_count": 156,
   "id": "6d4165c1-50ce-42bc-9547-7a4a8c3fe6a3",
   "metadata": {},
   "outputs": [],
   "source": [
    "all_path = {}"
   ]
  },
  {
   "cell_type": "code",
   "execution_count": 174,
   "id": "222bf7f0-ca03-4480-9d10-e96582fc5fc7",
   "metadata": {},
   "outputs": [],
   "source": [
    "path = []\n",
    "for i in range(9):\n",
    "    path.append((i, 8))\n",
    "for i in range(8, 0, -1):\n",
    "    path.append((9, i))\n",
    "for i in range(9, -1, -1):\n",
    "    path.append((i, 0))"
   ]
  },
  {
   "cell_type": "code",
   "execution_count": 175,
   "id": "b3f43c18-4afb-4b97-b709-16ccc25f8b53",
   "metadata": {},
   "outputs": [
    {
     "data": {
      "text/plain": [
       "([(0, 8),\n",
       "  (1, 8),\n",
       "  (2, 8),\n",
       "  (3, 8),\n",
       "  (4, 8),\n",
       "  (5, 8),\n",
       "  (6, 8),\n",
       "  (7, 8),\n",
       "  (8, 8),\n",
       "  (9, 8),\n",
       "  (9, 7),\n",
       "  (9, 6),\n",
       "  (9, 5),\n",
       "  (9, 4),\n",
       "  (9, 3),\n",
       "  (9, 2),\n",
       "  (9, 1),\n",
       "  (9, 0),\n",
       "  (8, 0),\n",
       "  (7, 0),\n",
       "  (6, 0),\n",
       "  (5, 0),\n",
       "  (4, 0),\n",
       "  (3, 0),\n",
       "  (2, 0),\n",
       "  (1, 0),\n",
       "  (0, 0)],\n",
       " 27)"
      ]
     },
     "execution_count": 175,
     "metadata": {},
     "output_type": "execute_result"
    }
   ],
   "source": [
    "path, len(path)"
   ]
  },
  {
   "cell_type": "code",
   "execution_count": 176,
   "id": "76d0cae8-7913-4e4a-8324-35fe7ff0325a",
   "metadata": {},
   "outputs": [],
   "source": [
    "all_path['path5'] = path"
   ]
  },
  {
   "cell_type": "code",
   "execution_count": 177,
   "id": "568cdfa3-654b-43a9-a3df-f2a20116d58a",
   "metadata": {},
   "outputs": [],
   "source": [
    "np.save('./User1_path', all_path)"
   ]
  },
  {
   "cell_type": "code",
   "execution_count": null,
   "id": "518abe42-3a26-44e2-b148-cca187c18b71",
   "metadata": {},
   "outputs": [],
   "source": []
  }
 ],
 "metadata": {
  "kernelspec": {
   "display_name": "Mag39",
   "language": "python",
   "name": "mag39"
  },
  "language_info": {
   "codemirror_mode": {
    "name": "ipython",
    "version": 3
   },
   "file_extension": ".py",
   "mimetype": "text/x-python",
   "name": "python",
   "nbconvert_exporter": "python",
   "pygments_lexer": "ipython3",
   "version": "3.9.12"
  }
 },
 "nbformat": 4,
 "nbformat_minor": 5
}
