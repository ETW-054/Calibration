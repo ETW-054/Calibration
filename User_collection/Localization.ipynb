{
 "cells": [
  {
   "cell_type": "code",
   "execution_count": 17,
   "id": "511a404b-44c9-4783-a259-f8f08985e0fc",
   "metadata": {},
   "outputs": [],
   "source": [
    "import os\n",
    "import glob\n",
    "\n",
    "import numpy as np\n",
    "import pandas as pd\n",
    "import zipfile\n",
    "import matplotlib.pyplot as plt\n",
    "from tqdm import tqdm\n",
    "import math\n",
    "from collections import defaultdict"
   ]
  },
  {
   "cell_type": "code",
   "execution_count": 3,
   "id": "c412f8ef-2636-48a2-899b-eb9bd0398036",
   "metadata": {},
   "outputs": [],
   "source": [
    "import torch\n",
    "import torch.nn as nn\n",
    "import torch.nn.functional as F\n",
    "from torch.utils.data import DataLoader, Dataset\n",
    "from sklearn.metrics import accuracy_score"
   ]
  },
  {
   "cell_type": "markdown",
   "id": "6ff7bf2a-a6ef-4158-8c62-98c4e9b9216e",
   "metadata": {},
   "source": [
    "# Load Data"
   ]
  },
  {
   "cell_type": "code",
   "execution_count": 24,
   "id": "69c60eca-65ae-4ea5-aa01-3a702d28d83a",
   "metadata": {},
   "outputs": [],
   "source": [
    "training_traj = np.load(f'/root/Calibration/PhyPhox/Data/training_traj.npy')[:, :, :-1]\n",
    "# validation_traj = np.load(f'/root/Calibration/PhyPhox/Data/validation_traj.npy')[:, :, :-1]\n",
    "# testing_traj = np.load(f'/root/Calibration/PhyPhox/Data/testing_traj.npy')[:, :, :-1]\n",
    "validation_traj = np.load(f'./User2_data.npy', allow_pickle=True)"
   ]
  },
  {
   "cell_type": "code",
   "execution_count": 40,
   "id": "0523ce91-15f5-4f1c-81fd-3844551c5df8",
   "metadata": {},
   "outputs": [],
   "source": [
    "posture_data = defaultdict(list)\n",
    "\n",
    "valid_data = validation_traj.item()\n",
    "for path_name in valid_data.keys():\n",
    "    for posture_name in valid_data[path_name].keys():\n",
    "        data = valid_data[path_name][posture_name]\n",
    "        pos = data[:, [0, 1]] + np.array((1, 1))\n",
    "        mag = data[:, [12, 13, 14]]\n",
    "        \n",
    "        pos_mag = np.concatenate((pos, mag), axis=-1)\n",
    "        posture_data[posture_name].append(pos_mag)"
   ]
  },
  {
   "cell_type": "code",
   "execution_count": 26,
   "id": "d96ab47a-5458-4035-b7cd-3fb85ac5c375",
   "metadata": {},
   "outputs": [
    {
     "data": {
      "text/plain": [
       "((100, 100, 5), ())"
      ]
     },
     "execution_count": 26,
     "metadata": {},
     "output_type": "execute_result"
    }
   ],
   "source": [
    "training_traj.shape, validation_traj.shape"
   ]
  },
  {
   "cell_type": "code",
   "execution_count": 28,
   "id": "218149de-0265-43a9-9afc-46312b8f9db6",
   "metadata": {},
   "outputs": [
    {
     "data": {
      "text/plain": [
       "array([  4.92      ,   1.2       ,  14.78095265, -18.16837343,\n",
       "       -21.63703396])"
      ]
     },
     "execution_count": 28,
     "metadata": {},
     "output_type": "execute_result"
    }
   ],
   "source": [
    "training_traj[0][0]"
   ]
  },
  {
   "cell_type": "code",
   "execution_count": 7,
   "id": "a3ac8857-65b1-4b9c-a6bc-d6ed711f55be",
   "metadata": {},
   "outputs": [],
   "source": [
    "# def expand(trajs):\n",
    "#     new_trajs = []\n",
    "#     for traj in trajs:\n",
    "#         pos = traj[:, 0:2]\n",
    "#         T = np.sqrt(np.sum(np.power(traj[:, 2:5], 2), axis=-1, keepdims=1))\n",
    "#         H = np.sqrt(np.sum(np.power(traj[:, 2:4], 2), axis=-1, keepdims=1))\n",
    "#         V = traj[:, 4:5]\n",
    "        \n",
    "#         new_traj = np.concatenate((pos, H, V, T), axis=-1)\n",
    "        \n",
    "#         new_trajs.append(new_traj)\n",
    "        \n",
    "#     return np.array(new_trajs)"
   ]
  },
  {
   "cell_type": "markdown",
   "id": "935e77de-e2ef-4742-a1fa-87fc4c6f26aa",
   "metadata": {},
   "source": [
    "# PreProcess"
   ]
  },
  {
   "cell_type": "code",
   "execution_count": 31,
   "id": "356a0158-7878-47b2-8935-87efe77811a9",
   "metadata": {},
   "outputs": [],
   "source": [
    "def split_traj(trajs, length=10):\n",
    "    sp_traj = []\n",
    "    for traj in trajs:\n",
    "        for i in range(len(traj) - length + 1):\n",
    "            sp_traj.append(traj[i:i+length])\n",
    "    return np.array(sp_traj)"
   ]
  },
  {
   "cell_type": "code",
   "execution_count": 41,
   "id": "d1c3909f-6b12-412a-ad0e-2c617eaee9ae",
   "metadata": {},
   "outputs": [],
   "source": [
    "prep_training_traj = split_traj(training_traj)\n",
    "prep_valid_front_pocket_traj = split_traj(posture_data['front_pocket'])\n",
    "prep_valid_horizontal_traj = split_traj(posture_data['horizontal'])\n",
    "prep_valid_pocket_traj = split_traj(posture_data['pocket'])\n",
    "prep_valid_swing_traj = split_traj(posture_data['swing'])\n",
    "prep_valid_target_traj = split_traj(posture_data['target'])"
   ]
  },
  {
   "cell_type": "code",
   "execution_count": 42,
   "id": "e3d4177b-c5b6-48c9-a7d6-12bd7c6713e7",
   "metadata": {},
   "outputs": [
    {
     "data": {
      "text/plain": [
       "((9100, 10, 5),\n",
       " (156, 10, 5),\n",
       " (156, 10, 5),\n",
       " (156, 10, 5),\n",
       " (156, 10, 5),\n",
       " (156, 10, 5))"
      ]
     },
     "execution_count": 42,
     "metadata": {},
     "output_type": "execute_result"
    }
   ],
   "source": [
    "prep_training_traj.shape, prep_valid_front_pocket_traj.shape, prep_valid_horizontal_traj.shape, prep_valid_pocket_traj.shape, prep_valid_swing_traj.shape, prep_valid_target_traj.shape"
   ]
  },
  {
   "cell_type": "markdown",
   "id": "d12ece65-8523-47ca-b8b8-c8979e5c403c",
   "metadata": {},
   "source": [
    "# Dataloader"
   ]
  },
  {
   "cell_type": "code",
   "execution_count": 20,
   "id": "b0e626e0-fed5-4a50-8182-2800ea9a769a",
   "metadata": {},
   "outputs": [],
   "source": [
    "class PairDataset(Dataset):\n",
    "    def __init__(self, pos, rcplot):\n",
    "        self.pos = torch.tensor(pos, dtype=torch.float)\n",
    "        self.rcplot = torch.tensor(rcplot, dtype=torch.float)\n",
    "\n",
    "    def __len__(self):\n",
    "        return len(self.pos)\n",
    "\n",
    "    def __getitem__(self, idx):\n",
    "        return self.pos[idx], self.rcplot[idx]"
   ]
  },
  {
   "cell_type": "code",
   "execution_count": 21,
   "id": "a6d297cc-dee9-4418-8300-0d00a64b0bf1",
   "metadata": {},
   "outputs": [],
   "source": [
    "train_loader = DataLoader(PairDataset(training_pos, training_rcplot), batch_size=64, shuffle=True)\n",
    "valid_loader = DataLoader(PairDataset(validation_pos, validation_rcplot), batch_size=64, shuffle=False)\n",
    "test_loader = DataLoader(PairDataset(testing_pos, testing_rcplot), batch_size=64, shuffle=False)"
   ]
  },
  {
   "cell_type": "markdown",
   "id": "19d7ab5b-a7b5-4644-8939-5fe5fcf4810b",
   "metadata": {},
   "source": [
    "# Model Architecture"
   ]
  },
  {
   "cell_type": "code",
   "execution_count": 22,
   "id": "dae186e7-57dc-4861-9099-1175f1487c53",
   "metadata": {},
   "outputs": [],
   "source": [
    "class RPCNN(nn.Module):\n",
    "    def __init__(self):\n",
    "        super().__init__()\n",
    "        \n",
    "        self.cnn1 = nn.Sequential(\n",
    "            nn.Conv2d(3, 128, 2, padding=3),\n",
    "            nn.SELU(),\n",
    "            nn.MaxPool2d(2),\n",
    "            nn.Dropout2d(0.25)\n",
    "        )\n",
    "        \n",
    "        self.cnn2 = nn.Sequential(\n",
    "            nn.Conv2d(128, 128, 2, padding=3),\n",
    "            nn.SELU(),\n",
    "            nn.MaxPool2d(2),\n",
    "            nn.Dropout2d(0.25)\n",
    "        )\n",
    "        \n",
    "        self.cnn3 = nn.Sequential(\n",
    "            nn.Conv2d(128, 256, 2, padding=2),\n",
    "            nn.SELU(),\n",
    "            nn.MaxPool2d(2),\n",
    "            nn.Dropout2d(0.25)\n",
    "        )\n",
    "        \n",
    "        self.linear = nn.Sequential(\n",
    "            nn.Linear(10, 4096),\n",
    "        )\n",
    "        \n",
    "        self.gru = nn.GRU(4096, 4096, batch_first=True)\n",
    "        \n",
    "        self.last = nn.Sequential(\n",
    "            nn.Linear(4096, 1024),\n",
    "            nn.ReLU(),\n",
    "            nn.Dropout(0.5),\n",
    "\n",
    "            nn.Linear(1024, 768),\n",
    "            nn.ReLU(),\n",
    "            nn.Dropout(0.5),\n",
    "            \n",
    "            nn.Linear(768, 512),\n",
    "            nn.ReLU(),\n",
    "            \n",
    "            nn.Linear(512, 2),\n",
    "        )\n",
    "        \n",
    "    def forward(self, rcplot):\n",
    "        bs, channel, seq_len, seq_len = rcplot.shape\n",
    "\n",
    "        # up part\n",
    "        z = self.cnn1(rcplot)\n",
    "        z = self.cnn2(z)\n",
    "        z = self.cnn3(z)\n",
    "        z = z.reshape((bs, -1))\n",
    "        \n",
    "        # bottom part\n",
    "        V = self.linear(rcplot.reshape((bs, channel * seq_len, -1)))\n",
    "        att = V @ z[:, :, None]\n",
    "        \n",
    "        r = torch.sum(F.softmax(att, dim=1) * V, dim=1)\n",
    "        r, _ = self.gru(z[:, None, :], r[None, :, :])\n",
    "        \n",
    "        # last part\n",
    "        z = z + r[:, 0]\n",
    "        z = self.last(z)\n",
    "        \n",
    "        return z\n",
    "        "
   ]
  },
  {
   "cell_type": "code",
   "execution_count": 23,
   "id": "2d556bda-7115-4b53-9587-ef29e14f0bd5",
   "metadata": {},
   "outputs": [],
   "source": [
    "def train(dataloader):\n",
    "    model.train()\n",
    "\n",
    "    mse_loss = []\n",
    "\n",
    "    for gt_pos, replots in dataloader:\n",
    "        optimizer.zero_grad()\n",
    "        \n",
    "        gt_pos = gt_pos.to(device)\n",
    "        replots = replots.to(device)\n",
    "\n",
    "        # localization\n",
    "        pred_pos = model(replots)\n",
    "        \n",
    "        # loss\n",
    "        loss = MSE_Loss(pred_pos, gt_pos)\n",
    "        \n",
    "        # backward\n",
    "        loss.backward()\n",
    "        optimizer.step()\n",
    "        \n",
    "        # record loss\n",
    "        mse_loss.append(loss.item())\n",
    "    \n",
    "    return np.mean(mse_loss)\n"
   ]
  },
  {
   "cell_type": "code",
   "execution_count": 24,
   "id": "e80bd23b-efad-4443-b5c6-6c79157d6f6c",
   "metadata": {},
   "outputs": [],
   "source": [
    "def evaluate(dataloader):\n",
    "    model.eval()\n",
    "\n",
    "    mse_loss = []\n",
    "\n",
    "    with torch.no_grad():\n",
    "        for gt_pos, replots in dataloader:\n",
    "            optimizer.zero_grad()\n",
    "            \n",
    "            gt_pos = gt_pos.to(device)\n",
    "            replots = replots.to(device)\n",
    "\n",
    "            # localization\n",
    "            pred_pos = model(replots)\n",
    "\n",
    "            # loss\n",
    "            loss = MSE_Loss(pred_pos, gt_pos)\n",
    "\n",
    "            # record loss\n",
    "            mse_loss.append(loss.item())\n",
    "    \n",
    "    return np.mean(mse_loss)\n"
   ]
  },
  {
   "cell_type": "code",
   "execution_count": 25,
   "id": "494ffd02-573b-416e-b49a-38d041e6469b",
   "metadata": {},
   "outputs": [],
   "source": [
    "EPOCH = 6000\n",
    "device = torch.device(\"cuda\" if (torch.cuda.is_available()) else \"cpu\")\n",
    "MSE_Loss = torch.nn.MSELoss()"
   ]
  },
  {
   "cell_type": "code",
   "execution_count": 26,
   "id": "21b3a4ce-6030-4020-b2a5-2f9da4665684",
   "metadata": {},
   "outputs": [
    {
     "data": {
      "text/plain": [
       "tensor(2.5000)"
      ]
     },
     "execution_count": 26,
     "metadata": {},
     "output_type": "execute_result"
    }
   ],
   "source": [
    "torch.nn.MSELoss()(torch.tensor([[3, 5]], dtype=torch.float), torch.tensor([[5, 4]], dtype=torch.float))"
   ]
  },
  {
   "cell_type": "code",
   "execution_count": 27,
   "id": "eb284ea1-7884-42d2-9989-9a377e231f1c",
   "metadata": {},
   "outputs": [],
   "source": [
    "model = RPCNN().to(device)\n",
    "optimizer = torch.optim.Adam(model.parameters(), lr=0.00005)"
   ]
  },
  {
   "cell_type": "code",
   "execution_count": 28,
   "id": "30658a17-e357-47c6-9d8b-e05ad696a359",
   "metadata": {},
   "outputs": [
    {
     "data": {
      "text/plain": [
       "torch.Size([16, 2])"
      ]
     },
     "execution_count": 28,
     "metadata": {},
     "output_type": "execute_result"
    }
   ],
   "source": [
    "output = model(torch.empty(16, 3, 10, 10).to(device))\n",
    "output.shape"
   ]
  },
  {
   "cell_type": "code",
   "execution_count": 29,
   "id": "725e3832-db0b-4d30-8a7b-6bed67ce9a96",
   "metadata": {},
   "outputs": [
    {
     "data": {
      "text/plain": [
       "==========================================================================================\n",
       "Layer (type:depth-idx)                   Output Shape              Param #\n",
       "==========================================================================================\n",
       "RPCNN                                    [1, 2]                    --\n",
       "├─Sequential: 1-1                        [1, 128, 7, 7]            --\n",
       "│    └─Conv2d: 2-1                       [1, 128, 15, 15]          1,664\n",
       "│    └─SELU: 2-2                         [1, 128, 15, 15]          --\n",
       "│    └─MaxPool2d: 2-3                    [1, 128, 7, 7]            --\n",
       "│    └─Dropout2d: 2-4                    [1, 128, 7, 7]            --\n",
       "├─Sequential: 1-2                        [1, 128, 6, 6]            --\n",
       "│    └─Conv2d: 2-5                       [1, 128, 12, 12]          65,664\n",
       "│    └─SELU: 2-6                         [1, 128, 12, 12]          --\n",
       "│    └─MaxPool2d: 2-7                    [1, 128, 6, 6]            --\n",
       "│    └─Dropout2d: 2-8                    [1, 128, 6, 6]            --\n",
       "├─Sequential: 1-3                        [1, 256, 4, 4]            --\n",
       "│    └─Conv2d: 2-9                       [1, 256, 9, 9]            131,328\n",
       "│    └─SELU: 2-10                        [1, 256, 9, 9]            --\n",
       "│    └─MaxPool2d: 2-11                   [1, 256, 4, 4]            --\n",
       "│    └─Dropout2d: 2-12                   [1, 256, 4, 4]            --\n",
       "├─Sequential: 1-4                        [1, 30, 4096]             --\n",
       "│    └─Linear: 2-13                      [1, 30, 4096]             45,056\n",
       "├─GRU: 1-5                               [1, 1, 4096]              100,687,872\n",
       "├─Sequential: 1-6                        [1, 2]                    --\n",
       "│    └─Linear: 2-14                      [1, 1024]                 4,195,328\n",
       "│    └─ReLU: 2-15                        [1, 1024]                 --\n",
       "│    └─Dropout: 2-16                     [1, 1024]                 --\n",
       "│    └─Linear: 2-17                      [1, 768]                  787,200\n",
       "│    └─ReLU: 2-18                        [1, 768]                  --\n",
       "│    └─Dropout: 2-19                     [1, 768]                  --\n",
       "│    └─Linear: 2-20                      [1, 512]                  393,728\n",
       "│    └─ReLU: 2-21                        [1, 512]                  --\n",
       "│    └─Linear: 2-22                      [1, 2]                    1,026\n",
       "==========================================================================================\n",
       "Total params: 106,308,866\n",
       "Trainable params: 106,308,866\n",
       "Non-trainable params: 0\n",
       "Total mult-adds (M): 126.58\n",
       "==========================================================================================\n",
       "Input size (MB): 0.00\n",
       "Forward/backward pass size (MB): 1.58\n",
       "Params size (MB): 425.24\n",
       "Estimated Total Size (MB): 426.81\n",
       "=========================================================================================="
      ]
     },
     "execution_count": 29,
     "metadata": {},
     "output_type": "execute_result"
    }
   ],
   "source": [
    "from torchinfo import summary\n",
    "summary(model, input_size=[(1, 3, 10, 10)])"
   ]
  },
  {
   "cell_type": "code",
   "execution_count": null,
   "id": "82a85539-f40d-4cbd-8530-9459aa4498fb",
   "metadata": {},
   "outputs": [],
   "source": [
    "for epoch in range(EPOCH):\n",
    "    \n",
    "    train_loss = train(train_loader)\n",
    "    valid_loss = evaluate(valid_loader)\n",
    "    test_loss = evaluate(test_loader)\n",
    "    \n",
    "    if (epoch + 1) % 1 == 0:\n",
    "        ep = str(epoch + 1).zfill(5)\n",
    "        print(f'{ep:>5}: train loss: {train_loss: 2.3f}   valid loss: {valid_loss: 2.3f}   test loss: {test_loss: 2.3f}')"
   ]
  },
  {
   "cell_type": "code",
   "execution_count": null,
   "id": "8b97d08b-1501-48d6-a3b5-bdeb4b44eb6c",
   "metadata": {},
   "outputs": [],
   "source": [
    "03909: train loss:  0.003   valid loss:  0.066   test loss:  0.946\n",
    "03910: train loss:  0.002   valid loss:  0.066   test loss:  0.939"
   ]
  },
  {
   "cell_type": "code",
   "execution_count": null,
   "id": "d42162d7-7c98-4214-b0a8-fd340da7d534",
   "metadata": {},
   "outputs": [],
   "source": [
    "03909: train loss:  0.005   valid loss:  0.217   test loss:  1.436\n",
    "03910: train loss:  0.004   valid loss:  0.205   test loss:  1.445"
   ]
  }
 ],
 "metadata": {
  "kernelspec": {
   "display_name": "Mag39",
   "language": "python",
   "name": "mag39"
  },
  "language_info": {
   "codemirror_mode": {
    "name": "ipython",
    "version": 3
   },
   "file_extension": ".py",
   "mimetype": "text/x-python",
   "name": "python",
   "nbconvert_exporter": "python",
   "pygments_lexer": "ipython3",
   "version": "3.9.12"
  }
 },
 "nbformat": 4,
 "nbformat_minor": 5
}
