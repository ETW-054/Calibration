{
 "cells": [
  {
   "cell_type": "code",
   "execution_count": 1,
   "id": "baeaebda-7b0e-4c26-b250-40bf75ea93f4",
   "metadata": {},
   "outputs": [],
   "source": [
    "import argparse\n",
    "import os\n",
    "import csv\n",
    "import random\n",
    "import time\n",
    "import json\n",
    "import math\n",
    "from collections import defaultdict\n",
    "\n",
    "import numpy as np\n",
    "import matplotlib.pyplot as plt\n",
    "from tqdm import tqdm\n",
    "\n",
    "import torch\n",
    "import torch.nn as nn\n",
    "import torch.nn.functional as F\n",
    "from torch.utils.data import DataLoader, Dataset"
   ]
  },
  {
   "cell_type": "markdown",
   "id": "5ab94c82-33e9-483c-a621-1045fe7ffbfe",
   "metadata": {},
   "source": [
    "## Load data"
   ]
  },
  {
   "cell_type": "code",
   "execution_count": 2,
   "id": "ffe854a3-1486-47a3-9a47-afa549cd176c",
   "metadata": {},
   "outputs": [],
   "source": [
    "training_traj = np.load(f'/root/Calibration/PhyPhox/Data/training_traj_0.6.npy')\n",
    "validation_traj = np.load(f'./all_User_data.npy', allow_pickle=True)"
   ]
  },
  {
   "cell_type": "code",
   "execution_count": 3,
   "id": "a697a61e-2561-4a4c-a592-d5af2a08b0a3",
   "metadata": {},
   "outputs": [],
   "source": [
    "posture_data = defaultdict(list)\n",
    "\n",
    "valid_data = validation_traj.item()\n",
    "for user_name in valid_data.keys():\n",
    "    for path_name in valid_data[user_name].keys():\n",
    "        for posture_name in valid_data[user_name][path_name].keys():\n",
    "            data = valid_data[user_name][path_name][posture_name]\n",
    "            pos = (data[:, [0, 1]] + np.array((1, 1))) * 0.6\n",
    "            mag = data[:, [12, 13, 14]]\n",
    "\n",
    "            pos_mag = np.concatenate((pos, mag), axis=-1)\n",
    "            posture_data[posture_name].append(pos_mag)"
   ]
  },
  {
   "cell_type": "code",
   "execution_count": 4,
   "id": "eaf8ee1d-22f5-43f5-8d49-81ca84af186d",
   "metadata": {},
   "outputs": [],
   "source": [
    "def split_traj(trajs, length=20):\n",
    "    sp_traj = []\n",
    "    for traj in trajs:\n",
    "        for i in range(len(traj) - length + 1):\n",
    "            sp_traj.append(traj[i:i+length])\n",
    "    return np.array(sp_traj)"
   ]
  },
  {
   "cell_type": "code",
   "execution_count": 5,
   "id": "99227575-3a63-4ca6-8ca5-6aad29e0c804",
   "metadata": {},
   "outputs": [],
   "source": [
    "prep_training_traj = split_traj(training_traj)\n",
    "prep_valid_front_pocket_traj = split_traj(posture_data['front_pocket'])\n",
    "prep_valid_horizontal_traj = split_traj(posture_data['horizontal'])\n",
    "prep_valid_pocket_traj = split_traj(posture_data['pocket'])\n",
    "prep_valid_swing_traj = split_traj(posture_data['swing'])\n",
    "prep_valid_target_traj = split_traj(posture_data['target'])"
   ]
  },
  {
   "cell_type": "code",
   "execution_count": 6,
   "id": "711076d3-be36-4191-b78c-28839af04e80",
   "metadata": {},
   "outputs": [],
   "source": [
    "def expand_seq_features(seq):\n",
    "    ### neighbors\n",
    "    s_cord = seq[:, :, 0:2]\n",
    "    s_mag = seq[:, :, 2:5]\n",
    "    \n",
    "    s_magT = np.sqrt(np.power(s_mag[:, :, 0:1], 2) + np.power(s_mag[:, :, 1:2], 2) + np.power(s_mag[:, :, 2:3], 2))\n",
    "    s_magH = np.sqrt(np.power(s_mag[:, :, 0:1], 2) + np.power(s_mag[:, :, 1:2], 2))  # magH\n",
    "    s_elevation_angle = np.arccos(s_magH / s_magT) / np.pi * 180  # angle\n",
    "    # n_azimuth_angle = 0\n",
    "    \n",
    "    print(s_cord.shape, s_mag.shape, s_magT.shape, s_magH.shape, s_elevation_angle.shape)\n",
    "    s_new = np.concatenate([s_cord, s_mag, s_magT, s_magH, s_elevation_angle], axis=-1)\n",
    "    \n",
    "    return s_new"
   ]
  },
  {
   "cell_type": "code",
   "execution_count": 7,
   "id": "6b08872f-204f-4376-9636-eb25494c5c7f",
   "metadata": {},
   "outputs": [
    {
     "name": "stdout",
     "output_type": "stream",
     "text": [
      "(31000, 20, 2) (31000, 20, 3) (31000, 20, 1) (31000, 20, 1) (31000, 20, 1)\n",
      "(123, 20, 2) (123, 20, 3) (123, 20, 1) (123, 20, 1) (123, 20, 1)\n",
      "(123, 20, 2) (123, 20, 3) (123, 20, 1) (123, 20, 1) (123, 20, 1)\n",
      "(123, 20, 2) (123, 20, 3) (123, 20, 1) (123, 20, 1) (123, 20, 1)\n",
      "(123, 20, 2) (123, 20, 3) (123, 20, 1) (123, 20, 1) (123, 20, 1)\n",
      "(123, 20, 2) (123, 20, 3) (123, 20, 1) (123, 20, 1) (123, 20, 1)\n"
     ]
    }
   ],
   "source": [
    "prep_training_traj = expand_seq_features(prep_training_traj)\n",
    "prep_valid_front_pocket_traj = expand_seq_features(prep_valid_front_pocket_traj)\n",
    "prep_valid_horizontal_traj = expand_seq_features(prep_valid_horizontal_traj)\n",
    "prep_valid_pocket_traj = expand_seq_features(prep_valid_pocket_traj)\n",
    "prep_valid_swing_traj = expand_seq_features(prep_valid_swing_traj)\n",
    "prep_valid_target_traj = expand_seq_features(prep_valid_target_traj)"
   ]
  },
  {
   "cell_type": "code",
   "execution_count": 8,
   "id": "a13f35d5-2683-4977-b17a-a01e540d7619",
   "metadata": {},
   "outputs": [
    {
     "data": {
      "text/plain": [
       "((31000, 20, 8),\n",
       " (123, 20, 8),\n",
       " (123, 20, 8),\n",
       " (123, 20, 8),\n",
       " (123, 20, 8),\n",
       " (123, 20, 8))"
      ]
     },
     "execution_count": 8,
     "metadata": {},
     "output_type": "execute_result"
    }
   ],
   "source": [
    "prep_training_traj.shape, prep_valid_front_pocket_traj.shape, prep_valid_horizontal_traj.shape, prep_valid_pocket_traj.shape, prep_valid_swing_traj.shape, prep_valid_target_traj.shape"
   ]
  },
  {
   "cell_type": "markdown",
   "id": "5f183a86-6477-4de5-97c6-4a9edbe3b1d2",
   "metadata": {},
   "source": [
    "## Create Dataset & Dataloader"
   ]
  },
  {
   "cell_type": "code",
   "execution_count": 9,
   "id": "d67dcb0e-19db-429b-a14f-ea96b1b99db2",
   "metadata": {},
   "outputs": [],
   "source": [
    "class SequenceDataset(Dataset):\n",
    "    def __init__(self, sequence, pos):\n",
    "        self.sequence = sequence\n",
    "        self.pos = pos\n",
    "\n",
    "    def __len__(self):\n",
    "        return len(self.sequence)\n",
    "\n",
    "    def __getitem__(self, idx):\n",
    "        return self.sequence[idx], self.pos[idx]"
   ]
  },
  {
   "cell_type": "code",
   "execution_count": 10,
   "id": "2da6eea1-49c3-47fb-ae51-897061d2e5cc",
   "metadata": {},
   "outputs": [],
   "source": [
    "### train dataloader ###\n",
    "train_dataset = SequenceDataset(\n",
    "                    sequence=torch.tensor(prep_training_traj[:, :, 2:], dtype=torch.float),\n",
    "                    pos=torch.tensor(prep_training_traj[:, -1, :2], dtype=torch.float)\n",
    "                )\n",
    "train_loader = DataLoader(train_dataset, batch_size=32, shuffle=True)\n",
    "\n",
    "\n",
    "### test dataloader ###\n",
    "front_pocket_dataset = SequenceDataset(\n",
    "                    sequence=torch.tensor(prep_valid_front_pocket_traj[1::2, :, 2:], dtype=torch.float),\n",
    "                    pos=torch.tensor(prep_valid_front_pocket_traj[1::2, -1, :2], dtype=torch.float)\n",
    "                )\n",
    "front_pocket_loader = DataLoader(front_pocket_dataset, batch_size=32)\n",
    "\n",
    "horizontal_dataset = SequenceDataset(\n",
    "                    sequence=torch.tensor(prep_valid_horizontal_traj[1::2, :, 2:], dtype=torch.float),\n",
    "                    pos=torch.tensor(prep_valid_horizontal_traj[1::2, -1, :2], dtype=torch.float)\n",
    "                )\n",
    "horizontal_loader = DataLoader(horizontal_dataset, batch_size=32)\n",
    "\n",
    "pocket_dataset = SequenceDataset(\n",
    "                    sequence=torch.tensor(prep_valid_pocket_traj[1::2, :, 2:], dtype=torch.float),\n",
    "                    pos=torch.tensor(prep_valid_pocket_traj[1::2, -1, :2], dtype=torch.float)\n",
    "                )\n",
    "pocket_loader = DataLoader(pocket_dataset, batch_size=32)\n",
    "\n",
    "swing_dataset = SequenceDataset(\n",
    "                    sequence=torch.tensor(prep_valid_swing_traj[1::2, :, 2:], dtype=torch.float),\n",
    "                    pos=torch.tensor(prep_valid_swing_traj[1::2, -1, :2], dtype=torch.float)\n",
    "                )\n",
    "swing_loader = DataLoader(swing_dataset, batch_size=32)\n",
    "\n",
    "target_dataset = SequenceDataset(\n",
    "                    sequence=torch.tensor(prep_valid_target_traj[1::2, :, 2:], dtype=torch.float),\n",
    "                    pos=torch.tensor(prep_valid_target_traj[1::2, -1, :2], dtype=torch.float)\n",
    "                )\n",
    "target_loader = DataLoader(target_dataset, batch_size=32)"
   ]
  },
  {
   "cell_type": "markdown",
   "id": "f0f72f31-4891-41da-8d78-75cf1ab93159",
   "metadata": {},
   "source": [
    "## Model"
   ]
  },
  {
   "cell_type": "code",
   "execution_count": 11,
   "id": "627ef2cf-ac9e-4856-985b-0a01e43548cf",
   "metadata": {},
   "outputs": [],
   "source": [
    "class Locator(nn.Module):\n",
    "    def __init__(self, seq_len=60):\n",
    "        super().__init__()\n",
    "        \n",
    "        self.lstm = nn.LSTM(input_size=6, hidden_size=32, num_layers=3, batch_first=True, bidirectional=False)\n",
    "        \n",
    "        self.last = nn.Sequential(\n",
    "            nn.Linear(32, 16),\n",
    "            nn.LeakyReLU(),\n",
    "            nn.Linear(16, 8),\n",
    "            nn.LeakyReLU(),\n",
    "            nn.Linear(8, 2),\n",
    "        )\n",
    "        \n",
    "    def forward(self, features):\n",
    "        h, _ = self.lstm(features)\n",
    "        \n",
    "        pos = self.last(h[:, -1])\n",
    "        \n",
    "        return pos"
   ]
  },
  {
   "cell_type": "code",
   "execution_count": 12,
   "id": "ff0a5056-f220-4d75-8967-f7c532fda122",
   "metadata": {},
   "outputs": [],
   "source": [
    "def train(dataloader):\n",
    "    model.train()\n",
    "\n",
    "    mse_loss = []\n",
    "    l1_loss = []\n",
    "\n",
    "    for sequences, gt_pos in dataloader:\n",
    "        optimizer.zero_grad()\n",
    "        \n",
    "        sequences = sequences.to(device)\n",
    "        gt_pos = gt_pos.to(device)\n",
    "        \n",
    "        # localization\n",
    "        pred_pos = model(sequences)\n",
    "        \n",
    "        # loss\n",
    "        loss = MSE_Loss(pred_pos, gt_pos)\n",
    "        \n",
    "        # backward\n",
    "        loss.backward()\n",
    "        optimizer.step()\n",
    "        \n",
    "        # record loss\n",
    "        mse_loss.append(loss.item())\n",
    "        l1_loss.append(L1_loss(pred_pos, gt_pos).item())\n",
    "    \n",
    "    return np.mean(mse_loss), np.mean(l1_loss)"
   ]
  },
  {
   "cell_type": "code",
   "execution_count": 13,
   "id": "6fae5873-c683-4d61-8bcb-91f6dbd2db20",
   "metadata": {},
   "outputs": [],
   "source": [
    "def evaluate(dataloader):\n",
    "    model.eval()\n",
    "\n",
    "    mse_loss = []\n",
    "    l1_loss = []\n",
    "\n",
    "    with torch.no_grad():\n",
    "        for sequences, gt_pos in dataloader:\n",
    "            optimizer.zero_grad()\n",
    "            \n",
    "            sequences = sequences.to(device)\n",
    "            gt_pos = gt_pos.to(device)\n",
    "\n",
    "            # localization\n",
    "            pred_pos = model(sequences)\n",
    "\n",
    "            # loss\n",
    "            loss = MSE_Loss(pred_pos, gt_pos)\n",
    "\n",
    "            # record loss\n",
    "            mse_loss.append(loss.item())\n",
    "            l1_loss.append(L1_loss(pred_pos, gt_pos).item())\n",
    "    \n",
    "    return np.mean(mse_loss), np.mean(l1_loss)"
   ]
  },
  {
   "cell_type": "code",
   "execution_count": 14,
   "id": "e605e83a-43ba-4533-84c3-2abed3c43b2c",
   "metadata": {},
   "outputs": [],
   "source": [
    "EPOCH = 10000\n",
    "device = torch.device(\"cuda\" if (torch.cuda.is_available()) else \"cpu\")\n",
    "MSE_Loss = torch.nn.MSELoss()\n",
    "L1_loss = torch.nn.L1Loss()"
   ]
  },
  {
   "cell_type": "code",
   "execution_count": 18,
   "id": "cc60e7dc-6b9e-4f26-8bb0-e1dd8eaa2390",
   "metadata": {},
   "outputs": [],
   "source": [
    "model = Locator().to(device)\n",
    "optimizer = torch.optim.Adam(model.parameters(), lr=0.0001)"
   ]
  },
  {
   "cell_type": "code",
   "execution_count": 19,
   "id": "1dacf22f-6a14-4101-ae7a-ee146432e76d",
   "metadata": {},
   "outputs": [
    {
     "data": {
      "text/plain": [
       "==========================================================================================\n",
       "Layer (type:depth-idx)                   Output Shape              Param #\n",
       "==========================================================================================\n",
       "Locator                                  [1, 2]                    --\n",
       "├─LSTM: 1-1                              [1, 20, 32]               22,016\n",
       "├─Sequential: 1-2                        [1, 2]                    --\n",
       "│    └─Linear: 2-1                       [1, 16]                   528\n",
       "│    └─LeakyReLU: 2-2                    [1, 16]                   --\n",
       "│    └─Linear: 2-3                       [1, 8]                    136\n",
       "│    └─LeakyReLU: 2-4                    [1, 8]                    --\n",
       "│    └─Linear: 2-5                       [1, 2]                    18\n",
       "==========================================================================================\n",
       "Total params: 22,698\n",
       "Trainable params: 22,698\n",
       "Non-trainable params: 0\n",
       "Total mult-adds (M): 0.44\n",
       "==========================================================================================\n",
       "Input size (MB): 0.00\n",
       "Forward/backward pass size (MB): 0.01\n",
       "Params size (MB): 0.09\n",
       "Estimated Total Size (MB): 0.10\n",
       "=========================================================================================="
      ]
     },
     "execution_count": 19,
     "metadata": {},
     "output_type": "execute_result"
    }
   ],
   "source": [
    "from torchinfo import summary\n",
    "summary(model, input_size=[(1, 20, 6)])"
   ]
  },
  {
   "cell_type": "code",
   "execution_count": 20,
   "id": "e825acab-b37d-4d7e-b5f2-36307c071ee9",
   "metadata": {},
   "outputs": [
    {
     "name": "stdout",
     "output_type": "stream",
     "text": [
      "00500: train mse loss:  3.163, l1 loss:  1.482     horizontal mse loss:  3.156, l1 loss:  1.481\n",
      "       swing mse loss:  3.157, l1 loss:  1.481   front_pocket mse loss:  3.156, l1 loss:  1.481   pocket mse loss:  3.156, l1 loss:  1.481\n",
      "01000: train mse loss:  1.603, l1 loss:  1.050     horizontal mse loss:  3.326, l1 loss:  1.533\n",
      "       swing mse loss:  2.631, l1 loss:  1.391   front_pocket mse loss:  2.885, l1 loss:  1.455   pocket mse loss:  3.145, l1 loss:  1.503\n",
      "01500: train mse loss:  0.332, l1 loss:  0.389     horizontal mse loss:  4.841, l1 loss:  1.842\n",
      "       swing mse loss:  4.673, l1 loss:  1.747   front_pocket mse loss:  4.154, l1 loss:  1.673   pocket mse loss:  4.496, l1 loss:  1.757\n",
      "02000: train mse loss:  0.142, l1 loss:  0.199     horizontal mse loss:  5.270, l1 loss:  1.874\n",
      "       swing mse loss:  5.838, l1 loss:  1.975   front_pocket mse loss:  5.106, l1 loss:  1.869   pocket mse loss:  5.103, l1 loss:  1.895\n",
      "02500: train mse loss:  0.090, l1 loss:  0.140     horizontal mse loss:  5.757, l1 loss:  1.967\n",
      "       swing mse loss:  6.745, l1 loss:  2.139   front_pocket mse loss:  5.684, l1 loss:  1.946   pocket mse loss:  5.452, l1 loss:  1.958\n",
      "03000: train mse loss:  0.075, l1 loss:  0.120     horizontal mse loss:  5.984, l1 loss:  1.999\n",
      "       swing mse loss:  7.065, l1 loss:  2.196   front_pocket mse loss:  5.959, l1 loss:  1.994   pocket mse loss:  5.477, l1 loss:  1.968\n",
      "03500: train mse loss:  0.051, l1 loss:  0.088     horizontal mse loss:  5.976, l1 loss:  1.979\n",
      "       swing mse loss:  7.005, l1 loss:  2.183   front_pocket mse loss:  6.067, l1 loss:  2.017   pocket mse loss:  5.330, l1 loss:  1.931\n",
      "04000: train mse loss:  0.042, l1 loss:  0.085     horizontal mse loss:  5.981, l1 loss:  1.983\n",
      "       swing mse loss:  6.950, l1 loss:  2.175   front_pocket mse loss:  6.104, l1 loss:  2.039   pocket mse loss:  5.260, l1 loss:  1.924\n",
      "04500: train mse loss:  0.028, l1 loss:  0.054     horizontal mse loss:  5.983, l1 loss:  1.989\n",
      "       swing mse loss:  6.862, l1 loss:  2.156   front_pocket mse loss:  6.173, l1 loss:  2.063   pocket mse loss:  5.330, l1 loss:  1.950\n",
      "05000: train mse loss:  0.015, l1 loss:  0.025     horizontal mse loss:  5.961, l1 loss:  1.982\n",
      "       swing mse loss:  6.669, l1 loss:  2.109   front_pocket mse loss:  6.240, l1 loss:  2.072   pocket mse loss:  5.275, l1 loss:  1.937\n",
      "05500: train mse loss:  0.000, l1 loss:  0.007     horizontal mse loss:  6.015, l1 loss:  1.980\n",
      "       swing mse loss:  6.739, l1 loss:  2.121   front_pocket mse loss:  6.265, l1 loss:  2.074   pocket mse loss:  5.318, l1 loss:  1.946\n",
      "06000: train mse loss:  0.000, l1 loss:  0.007     horizontal mse loss:  6.025, l1 loss:  1.980\n",
      "       swing mse loss:  6.728, l1 loss:  2.119   front_pocket mse loss:  6.234, l1 loss:  2.068   pocket mse loss:  5.335, l1 loss:  1.951\n",
      "06500: train mse loss:  0.000, l1 loss:  0.005     horizontal mse loss:  6.027, l1 loss:  1.981\n",
      "       swing mse loss:  6.717, l1 loss:  2.117   front_pocket mse loss:  6.200, l1 loss:  2.065   pocket mse loss:  5.348, l1 loss:  1.958\n",
      "07000: train mse loss:  0.000, l1 loss:  0.007     horizontal mse loss:  6.014, l1 loss:  1.978\n",
      "       swing mse loss:  6.688, l1 loss:  2.110   front_pocket mse loss:  6.168, l1 loss:  2.060   pocket mse loss:  5.376, l1 loss:  1.968\n",
      "07500: train mse loss:  0.000, l1 loss:  0.003     horizontal mse loss:  6.004, l1 loss:  1.975\n",
      "       swing mse loss:  6.646, l1 loss:  2.103   front_pocket mse loss:  6.147, l1 loss:  2.057   pocket mse loss:  5.372, l1 loss:  1.971\n",
      "08000: train mse loss:  0.000, l1 loss:  0.006     horizontal mse loss:  5.989, l1 loss:  1.972\n",
      "       swing mse loss:  6.608, l1 loss:  2.097   front_pocket mse loss:  6.120, l1 loss:  2.050   pocket mse loss:  5.376, l1 loss:  1.973\n",
      "08500: train mse loss:  0.000, l1 loss:  0.009     horizontal mse loss:  5.977, l1 loss:  1.970\n",
      "       swing mse loss:  6.563, l1 loss:  2.091   front_pocket mse loss:  6.087, l1 loss:  2.043   pocket mse loss:  5.401, l1 loss:  1.980\n",
      "09000: train mse loss:  0.000, l1 loss:  0.005     horizontal mse loss:  5.969, l1 loss:  1.969\n",
      "       swing mse loss:  6.546, l1 loss:  2.088   front_pocket mse loss:  6.079, l1 loss:  2.041   pocket mse loss:  5.380, l1 loss:  1.977\n",
      "09500: train mse loss:  0.000, l1 loss:  0.005     horizontal mse loss:  5.957, l1 loss:  1.966\n",
      "       swing mse loss:  6.484, l1 loss:  2.077   front_pocket mse loss:  6.040, l1 loss:  2.032   pocket mse loss:  5.409, l1 loss:  1.984\n",
      "10000: train mse loss:  0.000, l1 loss:  0.007     horizontal mse loss:  5.958, l1 loss:  1.967\n",
      "       swing mse loss:  6.479, l1 loss:  2.076   front_pocket mse loss:  6.032, l1 loss:  2.029   pocket mse loss:  5.407, l1 loss:  1.984\n"
     ]
    }
   ],
   "source": [
    "for epoch in range(EPOCH):\n",
    "    \n",
    "#     train_loss, train_l1 = train(train_loader)\n",
    "    train_loss, train_l1 = train(target_loader)\n",
    "    \n",
    "    front_pocket_loss, front_pocket_l1 = evaluate(front_pocket_loader)\n",
    "    horizontal_loss, horizontal_l1 = evaluate(horizontal_loader)\n",
    "    pocket_loss, pocket_l1 = evaluate(pocket_loader)\n",
    "    swing_loss, swing_l1 = evaluate(swing_loader)\n",
    "#     target_loss, target_l1 = evaluate(target_loader)\n",
    "    \n",
    "    if (epoch + 1) % 500 == 0:\n",
    "        ep = str(epoch + 1).zfill(5)\n",
    "        print(f'{ep:>5}: train mse loss: {train_loss: >6.3f}, l1 loss: {train_l1: >6.3f}     horizontal mse loss: {horizontal_loss: >6.3f}, l1 loss: {horizontal_l1: >6.3f}')  #   target mse loss: {target_loss: >6.3f}, l1 loss: {target_l1: >6.3f}\n",
    "        print(f'       swing mse loss: {swing_loss: >6.3f}, l1 loss: {swing_l1: >6.3f}   front_pocket mse loss: {front_pocket_loss: >6.3f}, l1 loss: {front_pocket_l1: >6.3f}   pocket mse loss: {pocket_loss: >6.3f}, l1 loss: {pocket_l1: >6.3f}')"
   ]
  },
  {
   "cell_type": "markdown",
   "id": "b59e472d-7d5d-4207-8ccf-54a8985827d7",
   "metadata": {},
   "source": [
    "```text\n",
    "01000: train mse loss:  0.001, l1 loss:  0.021     horizontal mse loss:  6.739, l1 loss:  2.113   target mse loss:  3.329, l1 loss:  1.399\n",
    "       swing mse loss:  6.526, l1 loss:  2.105   front_pocket mse loss:  6.135, l1 loss:  2.135   pocket mse loss:  5.870, l1 loss:  1.985\n",
    "       \n",
    "01000: train mse loss:  0.000, l1 loss:  0.004     horizontal mse loss:  5.941, l1 loss:  1.969   target mse loss:  3.925, l1 loss:  1.654\n",
    "       swing mse loss:  4.651, l1 loss:  1.780   front_pocket mse loss:  5.609, l1 loss:  1.971   pocket mse loss:  5.016, l1 loss:  1.817\n",
    "```"
   ]
  },
  {
   "cell_type": "code",
   "execution_count": null,
   "id": "1fef5c30-cbad-4d85-a87e-71a10d442758",
   "metadata": {},
   "outputs": [],
   "source": [
    "# torch.save({\n",
    "#     'locator_state_dict': model.state_dict(),\n",
    "#     'optimizer_state_dict': optimizer.state_dict(),\n",
    "#     }, f'/root/Mag/Experiments/0712/loc/m_A_gpr_model.pt')"
   ]
  },
  {
   "cell_type": "code",
   "execution_count": 20,
   "id": "a0a2c3a3-108b-4729-a142-e3000f46cf45",
   "metadata": {},
   "outputs": [],
   "source": [
    "def pred_sequence_pos(dataloader):\n",
    "    model.eval()\n",
    "\n",
    "    pred_poses = []\n",
    "    gt_poses = []\n",
    "\n",
    "    with torch.no_grad():\n",
    "        for sequences, gt_pos in dataloader:\n",
    "            optimizer.zero_grad()\n",
    "            \n",
    "            sequences = sequences.to(device)\n",
    "            gt_pos = gt_pos.to(device)\n",
    "\n",
    "            # localization\n",
    "            pred_pos = model(sequences)\n",
    "\n",
    "            gt_poses.extend(gt_pos.detach().cpu().numpy())\n",
    "            pred_poses.extend(pred_pos.detach().cpu().numpy())\n",
    "    \n",
    "    return np.array(gt_poses), np.array(pred_poses)"
   ]
  },
  {
   "cell_type": "code",
   "execution_count": 48,
   "id": "67460bee-755d-4bf8-a7c2-818befa0046d",
   "metadata": {
    "jupyter": {
     "source_hidden": true
    },
    "tags": []
   },
   "outputs": [],
   "source": [
    "# # gt pos need save all points\n",
    "\n",
    "# gt_poses, pred_poses = pred_sequence_pos(train_loader)\n",
    "# print(gt_poses.shape, pred_poses.shape, prep_training_traj.shape)\n",
    "\n",
    "# test_seq = prep_training_traj[::5000, :, :2]\n",
    "\n",
    "# plt.figure()\n",
    "\n",
    "# plt.plot(test_seq[:, :, 1].T, test_seq[:, :, 0].T, alpha=0.25)\n",
    "\n",
    "# plt.scatter(test_seq[:, -1, 1], test_seq[:, -1, 0])\n",
    "# plt.scatter(gt_poses[::5000, 1], gt_poses[::5000, 0])\n",
    "# plt.scatter(pred_poses[::5000, 1], pred_poses[::5000, 0])\n",
    "\n",
    "# plt.axis('equal')\n",
    "# plt.gca().invert_yaxis()\n",
    "# plt.show()"
   ]
  },
  {
   "cell_type": "code",
   "execution_count": 21,
   "id": "be46ed9e-0db5-4291-8daa-345b4b9dd68d",
   "metadata": {},
   "outputs": [
    {
     "name": "stdout",
     "output_type": "stream",
     "text": [
      "(123, 2) (123, 2) (123, 20, 8)\n"
     ]
    },
    {
     "data": {
      "image/png": "[encoded data removed]",
      "text/plain": [
       "<Figure size 640x480 with 1 Axes>"
      ]
     },
     "metadata": {},
     "output_type": "display_data"
    }
   ],
   "source": [
    "gt_poses, pred_poses = pred_sequence_pos(target_loader)\n",
    "print(gt_poses.shape, pred_poses.shape, prep_valid_target_traj.shape)\n",
    "\n",
    "test_seq = prep_valid_target_traj[::50, :, :2]\n",
    "\n",
    "plt.figure()\n",
    "\n",
    "plt.plot(test_seq[:, :, 1].T, test_seq[:, :, 0].T, alpha=0.25)\n",
    "\n",
    "plt.scatter(test_seq[:, -1, 1], test_seq[:, -1, 0])\n",
    "plt.scatter(pred_poses[::50, 1], pred_poses[::50, 0])\n",
    "\n",
    "plt.axis('equal')\n",
    "plt.gca().invert_yaxis()\n",
    "plt.show()"
   ]
  },
  {
   "cell_type": "code",
   "execution_count": 22,
   "id": "48c86af7-26b0-4447-8410-3b6d4599dd68",
   "metadata": {},
   "outputs": [
    {
     "name": "stdout",
     "output_type": "stream",
     "text": [
      "(123, 2) (123, 2) (123, 20, 8)\n"
     ]
    },
    {
     "data": {
      "image/png": "[encoded data removed]",
      "text/plain": [
       "<Figure size 640x480 with 1 Axes>"
      ]
     },
     "metadata": {},
     "output_type": "display_data"
    }
   ],
   "source": [
    "gt_poses, pred_poses = pred_sequence_pos(horizontal_loader)\n",
    "print(gt_poses.shape, pred_poses.shape, prep_valid_horizontal_traj.shape)\n",
    "\n",
    "test_seq = prep_valid_horizontal_traj[::50, :, :2]\n",
    "\n",
    "plt.figure()\n",
    "\n",
    "plt.plot(test_seq[:, :, 1].T, test_seq[:, :, 0].T, alpha=0.25)\n",
    "\n",
    "plt.scatter(test_seq[:, -1, 1], test_seq[:, -1, 0])\n",
    "plt.scatter(pred_poses[::50, 1], pred_poses[::50, 0])\n",
    "\n",
    "plt.axis('equal')\n",
    "plt.gca().invert_yaxis()\n",
    "plt.show()"
   ]
  },
  {
   "cell_type": "code",
   "execution_count": null,
   "id": "cda51818-734d-4d67-944b-2599ca160db8",
   "metadata": {},
   "outputs": [],
   "source": []
  }
 ],
 "metadata": {
  "kernelspec": {
   "display_name": "Mag39",
   "language": "python",
   "name": "mag39"
  },
  "language_info": {
   "codemirror_mode": {
    "name": "ipython",
    "version": 3
   },
   "file_extension": ".py",
   "mimetype": "text/x-python",
   "name": "python",
   "nbconvert_exporter": "python",
   "pygments_lexer": "ipython3",
   "version": "3.9.12"
  }
 },
 "nbformat": 4,
 "nbformat_minor": 5
}
